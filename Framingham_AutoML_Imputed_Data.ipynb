{
  "nbformat": 4,
  "nbformat_minor": 0,
  "metadata": {
    "colab": {
      "name": "Framingham AutoML Imputed Data",
      "provenance": [],
      "collapsed_sections": []
    },
    "environment": {
      "name": "common-cu101.m65",
      "type": "gcloud",
      "uri": "gcr.io/deeplearning-platform-release/base-cu101:m65"
    },
    "kernelspec": {
      "display_name": "Python 3",
      "language": "python",
      "name": "python3"
    },
    "language_info": {
      "codemirror_mode": {
        "name": "ipython",
        "version": 3
      },
      "file_extension": ".py",
      "mimetype": "text/x-python",
      "name": "python",
      "nbconvert_exporter": "python",
      "pygments_lexer": "ipython3",
      "version": "3.7.10"
    }
  },
  "cells": [
    {
      "cell_type": "markdown",
      "metadata": {
        "id": "vN7gIvwQQFWP"
      },
      "source": [
        "#AutoML\n",
        "https://mljar.com/blog/automl-software-list/\n",
        "\n",
        "https://www.automl.org/automl/\n",
        "\n",
        "**auto-sklearn** (scikit-learn, python package): tabular classification, regression\n",
        "\n",
        "**autoKeras** (TensorFlow, python package): image classification\n",
        "\n",
        "**FLAML** (python package): classification, regression https://github.com/microsoft/FLAML\n",
        "\n",
        "**H2O** (python or R package): classification, regression https://docs.h2o.ai/h2o/latest-stable/h2o-docs/automl.html\n",
        "\n",
        "**automl-gs,\n",
        "auto-weka,\n",
        "autoAugment,\n",
        "auto-Tuned,\n",
        "autostacker,\n",
        "aphaD3M (Drori),\n",
        "featureTools,\n",
        "gluonAutoML,\n",
        "GCP-Tables,\n",
        "ludwig,\n",
        "mljar-supervised,\n",
        "NNI,\n",
        "tpot,\n",
        "transmografAI....**"
      ]
    },
    {
      "cell_type": "markdown",
      "metadata": {
        "id": "4TmXsyci5MIN"
      },
      "source": [
        "# Auto-sklearn installation\n",
        "https://automl.github.io/auto-sklearn/master/installation.html#installation\n",
        "\n",
        "#### Remember to \"save a copy in drive\"!"
      ]
    },
    {
      "cell_type": "code",
      "metadata": {
        "colab": {
          "base_uri": "https://localhost:8080/"
        },
        "id": "4gXq8hTj7cgZ",
        "outputId": "fb1d9d3b-c2db-42e6-a52c-d82598e2110c"
      },
      "source": [
        "!apt-get install swig -y\n",
        "!pip install Cython numpy\n",
        "!pip install auto-sklearn\n",
        "!pip install dask distributed --upgrade\n",
        "\n",
        "#run, restart run time, run again"
      ],
      "execution_count": 1,
      "outputs": [
        {
          "output_type": "stream",
          "text": [
            "Reading package lists... Done\n",
            "Building dependency tree       \n",
            "Reading state information... Done\n",
            "swig is already the newest version (3.0.12-1).\n",
            "The following package was automatically installed and is no longer required:\n",
            "  libnvidia-common-460\n",
            "Use 'apt autoremove' to remove it.\n",
            "0 upgraded, 0 newly installed, 0 to remove and 34 not upgraded.\n",
            "Requirement already satisfied: Cython in /usr/local/lib/python3.7/dist-packages (0.29.22)\n",
            "Requirement already satisfied: numpy in /usr/local/lib/python3.7/dist-packages (1.19.5)\n",
            "Requirement already satisfied: auto-sklearn in /usr/local/lib/python3.7/dist-packages (0.12.6)\n",
            "Requirement already satisfied: liac-arff in /usr/local/lib/python3.7/dist-packages (from auto-sklearn) (2.5.0)\n",
            "Requirement already satisfied: scikit-learn<0.25.0,>=0.24.0 in /usr/local/lib/python3.7/dist-packages (from auto-sklearn) (0.24.2)\n",
            "Requirement already satisfied: setuptools in /usr/local/lib/python3.7/dist-packages (from auto-sklearn) (56.1.0)\n",
            "Requirement already satisfied: smac<0.14,>=0.13.1 in /usr/local/lib/python3.7/dist-packages (from auto-sklearn) (0.13.1)\n",
            "Requirement already satisfied: joblib in /usr/local/lib/python3.7/dist-packages (from auto-sklearn) (1.0.1)\n",
            "Requirement already satisfied: pynisher>=0.6.3 in /usr/local/lib/python3.7/dist-packages (from auto-sklearn) (0.6.4)\n",
            "Requirement already satisfied: ConfigSpace<0.5,>=0.4.14 in /usr/local/lib/python3.7/dist-packages (from auto-sklearn) (0.4.18)\n",
            "Requirement already satisfied: pandas>=1.0 in /usr/local/lib/python3.7/dist-packages (from auto-sklearn) (1.1.5)\n",
            "Requirement already satisfied: distributed>=2.2.0 in /usr/local/lib/python3.7/dist-packages (from auto-sklearn) (2021.4.1)\n",
            "Requirement already satisfied: dask in /usr/local/lib/python3.7/dist-packages (from auto-sklearn) (2021.4.1)\n",
            "Requirement already satisfied: pyrfr<0.9,>=0.8.1 in /usr/local/lib/python3.7/dist-packages (from auto-sklearn) (0.8.2)\n",
            "Requirement already satisfied: pyyaml in /usr/local/lib/python3.7/dist-packages (from auto-sklearn) (3.13)\n",
            "Requirement already satisfied: scipy>=0.14.1 in /usr/local/lib/python3.7/dist-packages (from auto-sklearn) (1.4.1)\n",
            "Requirement already satisfied: numpy>=1.9.0 in /usr/local/lib/python3.7/dist-packages (from auto-sklearn) (1.19.5)\n",
            "Requirement already satisfied: threadpoolctl>=2.0.0 in /usr/local/lib/python3.7/dist-packages (from scikit-learn<0.25.0,>=0.24.0->auto-sklearn) (2.1.0)\n",
            "Requirement already satisfied: psutil in /usr/local/lib/python3.7/dist-packages (from smac<0.14,>=0.13.1->auto-sklearn) (5.4.8)\n",
            "Requirement already satisfied: lazy-import in /usr/local/lib/python3.7/dist-packages (from smac<0.14,>=0.13.1->auto-sklearn) (0.2.2)\n",
            "Requirement already satisfied: pyparsing in /usr/local/lib/python3.7/dist-packages (from ConfigSpace<0.5,>=0.4.14->auto-sklearn) (2.4.7)\n",
            "Requirement already satisfied: cython in /usr/local/lib/python3.7/dist-packages (from ConfigSpace<0.5,>=0.4.14->auto-sklearn) (0.29.22)\n",
            "Requirement already satisfied: python-dateutil>=2.7.3 in /usr/local/lib/python3.7/dist-packages (from pandas>=1.0->auto-sklearn) (2.8.1)\n",
            "Requirement already satisfied: pytz>=2017.2 in /usr/local/lib/python3.7/dist-packages (from pandas>=1.0->auto-sklearn) (2018.9)\n",
            "Requirement already satisfied: toolz>=0.8.2 in /usr/local/lib/python3.7/dist-packages (from distributed>=2.2.0->auto-sklearn) (0.11.1)\n",
            "Requirement already satisfied: sortedcontainers!=2.0.0,!=2.0.1 in /usr/local/lib/python3.7/dist-packages (from distributed>=2.2.0->auto-sklearn) (2.3.0)\n",
            "Requirement already satisfied: zict>=0.1.3 in /usr/local/lib/python3.7/dist-packages (from distributed>=2.2.0->auto-sklearn) (2.0.0)\n",
            "Requirement already satisfied: cloudpickle>=1.5.0 in /usr/local/lib/python3.7/dist-packages (from distributed>=2.2.0->auto-sklearn) (1.6.0)\n",
            "Requirement already satisfied: click>=6.6 in /usr/local/lib/python3.7/dist-packages (from distributed>=2.2.0->auto-sklearn) (7.1.2)\n",
            "Requirement already satisfied: tblib>=1.6.0 in /usr/local/lib/python3.7/dist-packages (from distributed>=2.2.0->auto-sklearn) (1.7.0)\n",
            "Requirement already satisfied: tornado>=5; python_version < \"3.8\" in /usr/local/lib/python3.7/dist-packages (from distributed>=2.2.0->auto-sklearn) (5.1.1)\n",
            "Requirement already satisfied: msgpack>=0.6.0 in /usr/local/lib/python3.7/dist-packages (from distributed>=2.2.0->auto-sklearn) (1.0.2)\n",
            "Requirement already satisfied: fsspec>=0.6.0 in /usr/local/lib/python3.7/dist-packages (from dask->auto-sklearn) (2021.4.0)\n",
            "Requirement already satisfied: partd>=0.3.10 in /usr/local/lib/python3.7/dist-packages (from dask->auto-sklearn) (1.2.0)\n",
            "Requirement already satisfied: six in /usr/local/lib/python3.7/dist-packages (from lazy-import->smac<0.14,>=0.13.1->auto-sklearn) (1.15.0)\n",
            "Requirement already satisfied: heapdict in /usr/local/lib/python3.7/dist-packages (from zict>=0.1.3->distributed>=2.2.0->auto-sklearn) (1.0.1)\n",
            "Requirement already satisfied: locket in /usr/local/lib/python3.7/dist-packages (from partd>=0.3.10->dask->auto-sklearn) (0.2.1)\n",
            "Requirement already up-to-date: dask in /usr/local/lib/python3.7/dist-packages (2021.4.1)\n",
            "Requirement already up-to-date: distributed in /usr/local/lib/python3.7/dist-packages (2021.4.1)\n",
            "Requirement already satisfied, skipping upgrade: fsspec>=0.6.0 in /usr/local/lib/python3.7/dist-packages (from dask) (2021.4.0)\n",
            "Requirement already satisfied, skipping upgrade: toolz>=0.8.2 in /usr/local/lib/python3.7/dist-packages (from dask) (0.11.1)\n",
            "Requirement already satisfied, skipping upgrade: cloudpickle>=1.1.1 in /usr/local/lib/python3.7/dist-packages (from dask) (1.6.0)\n",
            "Requirement already satisfied, skipping upgrade: pyyaml in /usr/local/lib/python3.7/dist-packages (from dask) (3.13)\n",
            "Requirement already satisfied, skipping upgrade: partd>=0.3.10 in /usr/local/lib/python3.7/dist-packages (from dask) (1.2.0)\n",
            "Requirement already satisfied, skipping upgrade: msgpack>=0.6.0 in /usr/local/lib/python3.7/dist-packages (from distributed) (1.0.2)\n",
            "Requirement already satisfied, skipping upgrade: tblib>=1.6.0 in /usr/local/lib/python3.7/dist-packages (from distributed) (1.7.0)\n",
            "Requirement already satisfied, skipping upgrade: psutil>=5.0 in /usr/local/lib/python3.7/dist-packages (from distributed) (5.4.8)\n",
            "Requirement already satisfied, skipping upgrade: click>=6.6 in /usr/local/lib/python3.7/dist-packages (from distributed) (7.1.2)\n",
            "Requirement already satisfied, skipping upgrade: zict>=0.1.3 in /usr/local/lib/python3.7/dist-packages (from distributed) (2.0.0)\n",
            "Requirement already satisfied, skipping upgrade: tornado>=5; python_version < \"3.8\" in /usr/local/lib/python3.7/dist-packages (from distributed) (5.1.1)\n",
            "Requirement already satisfied, skipping upgrade: sortedcontainers!=2.0.0,!=2.0.1 in /usr/local/lib/python3.7/dist-packages (from distributed) (2.3.0)\n",
            "Requirement already satisfied, skipping upgrade: setuptools in /usr/local/lib/python3.7/dist-packages (from distributed) (56.1.0)\n",
            "Requirement already satisfied, skipping upgrade: locket in /usr/local/lib/python3.7/dist-packages (from partd>=0.3.10->dask) (0.2.1)\n",
            "Requirement already satisfied, skipping upgrade: heapdict in /usr/local/lib/python3.7/dist-packages (from zict>=0.1.3->distributed) (1.0.1)\n"
          ],
          "name": "stdout"
        }
      ]
    },
    {
      "cell_type": "code",
      "metadata": {
        "colab": {
          "base_uri": "https://localhost:8080/"
        },
        "id": "ODDitPJw5p1u",
        "outputId": "1b7d4542-32be-49fa-a182-714be7248ff7"
      },
      "source": [
        "!pip install --upgrade scikit-learn\n",
        "!pip show scikit-learn\n",
        "import numpy as np\n",
        "import pandas as pd\n",
        "import sklearn\n",
        "import autosklearn.metrics\n",
        "import autosklearn.classification as classifier #classifier\n",
        "from sklearn.model_selection import train_test_split #load\n",
        "from sklearn.metrics import accuracy_score #prediction"
      ],
      "execution_count": 2,
      "outputs": [
        {
          "output_type": "stream",
          "text": [
            "Requirement already up-to-date: scikit-learn in /usr/local/lib/python3.7/dist-packages (0.24.2)\n",
            "Requirement already satisfied, skipping upgrade: threadpoolctl>=2.0.0 in /usr/local/lib/python3.7/dist-packages (from scikit-learn) (2.1.0)\n",
            "Requirement already satisfied, skipping upgrade: scipy>=0.19.1 in /usr/local/lib/python3.7/dist-packages (from scikit-learn) (1.4.1)\n",
            "Requirement already satisfied, skipping upgrade: joblib>=0.11 in /usr/local/lib/python3.7/dist-packages (from scikit-learn) (1.0.1)\n",
            "Requirement already satisfied, skipping upgrade: numpy>=1.13.3 in /usr/local/lib/python3.7/dist-packages (from scikit-learn) (1.19.5)\n",
            "Name: scikit-learn\n",
            "Version: 0.24.2\n",
            "Summary: A set of python modules for machine learning and data mining\n",
            "Home-page: http://scikit-learn.org\n",
            "Author: None\n",
            "Author-email: None\n",
            "License: new BSD\n",
            "Location: /usr/local/lib/python3.7/dist-packages\n",
            "Requires: numpy, threadpoolctl, joblib, scipy\n",
            "Required-by: yellowbrick, textgenrnn, smac, sklearn, sklearn-pandas, mlxtend, lightgbm, librosa, imbalanced-learn, fancyimpute, auto-sklearn\n"
          ],
          "name": "stdout"
        },
        {
          "output_type": "stream",
          "text": [
            "/usr/local/lib/python3.7/dist-packages/pyparsing.py:3190: FutureWarning: Possible set intersection at position 3\n",
            "  self.re = re.compile(self.reString)\n"
          ],
          "name": "stderr"
        }
      ]
    },
    {
      "cell_type": "markdown",
      "metadata": {
        "id": "wp5N-i8YnhaV"
      },
      "source": [
        "#Auto-sklearn Framingham Imputed Bayesian"
      ]
    },
    {
      "cell_type": "code",
      "metadata": {
        "id": "FOdweWZYRSpD"
      },
      "source": [
        "# Load in Data for Bayesian Imputation\n",
        "import pickle\n",
        "\n",
        "with open('prediction_data_bayesian_missrate=0.1.pkl', 'rb') as f:\n",
        "    bayesian1 = pickle.load(f)\n",
        "with open('prediction_data_bayesian_missrate=0.2.pkl', 'rb') as f:\n",
        "    bayesian2 = pickle.load(f)\n",
        "with open('prediction_data_bayesian_missrate=0.3.pkl', 'rb') as f:\n",
        "    bayesian3 = pickle.load(f)\n",
        "with open('prediction_data_bayesian_missrate=0.4.pkl', 'rb') as f:\n",
        "    bayesian4 = pickle.load(f)\n",
        "with open('prediction_data_bayesian_missrate=0.5.pkl', 'rb') as f:\n",
        "    bayesian5 = pickle.load(f)"
      ],
      "execution_count": 3,
      "outputs": []
    },
    {
      "cell_type": "code",
      "metadata": {
        "id": "hDlaKhrIT1C5"
      },
      "source": [
        "# Create X and y for Each Bayesian DF\n",
        "X_b1 = bayesian1.iloc[:, :-1]\n",
        "y_b1 = bayesian1.iloc[:, -1]\n",
        "\n",
        "X_b2 = bayesian2.iloc[:, :-1]\n",
        "y_b2 = bayesian2.iloc[:, -1]\n",
        "\n",
        "X_b3 = bayesian3.iloc[:, :-1]\n",
        "y_b3 = bayesian3.iloc[:, -1]\n",
        "\n",
        "X_b4 = bayesian4.iloc[:, :-1]\n",
        "y_b4 = bayesian4.iloc[:, -1]\n",
        "\n",
        "X_b5 = bayesian5.iloc[:, :-1]\n",
        "y_b5 = bayesian5.iloc[:, -1]"
      ],
      "execution_count": 5,
      "outputs": []
    },
    {
      "cell_type": "code",
      "metadata": {
        "id": "wBkBydX2VKU3"
      },
      "source": [
        "# Train Test Split for Each Bayesian DF\n",
        "from sklearn.model_selection import train_test_split\n",
        "\n",
        "X_train_b1, X_test_b1, y_train_b1, y_test_b1 = train_test_split(X_b1, y_b1, test_size = 0.2, random_state = 123)\n",
        "X_train_b2, X_test_b2, y_train_b2, y_test_b2 = train_test_split(X_b2, y_b2, test_size = 0.2, random_state = 123)\n",
        "X_train_b3, X_test_b3, y_train_b3, y_test_b3 = train_test_split(X_b3, y_b3, test_size = 0.2, random_state = 123)\n",
        "X_train_b4, X_test_b4, y_train_b4, y_test_b4 = train_test_split(X_b4, y_b4, test_size = 0.2, random_state = 123)\n",
        "X_train_b5, X_test_b5, y_train_b5, y_test_b5 = train_test_split(X_b5, y_b5, test_size = 0.2, random_state = 123)"
      ],
      "execution_count": 6,
      "outputs": []
    },
    {
      "cell_type": "code",
      "metadata": {
        "colab": {
          "base_uri": "https://localhost:8080/"
        },
        "id": "oiBrfj1DwPJJ",
        "outputId": "05ab25c3-61bb-4983-f1b1-16be91ef5e61"
      },
      "source": [
        "# Bayesian Classifier (Missing 10%)\n",
        "automlclassifier_b1=classifier.AutoSklearnClassifier(metric = autosklearn.metrics.f1,\n",
        "                                                   time_left_for_this_task=300,\n",
        "                                                   per_run_time_limit=60)\n",
        "automlclassifier_b1.fit(X_train_b1,y_train_b1)"
      ],
      "execution_count": 19,
      "outputs": [
        {
          "output_type": "execute_result",
          "data": {
            "text/plain": [
              "AutoSklearnClassifier(metric=f1, per_run_time_limit=60,\n",
              "                      time_left_for_this_task=600)"
            ]
          },
          "metadata": {
            "tags": []
          },
          "execution_count": 19
        }
      ]
    },
    {
      "cell_type": "code",
      "metadata": {
        "colab": {
          "base_uri": "https://localhost:8080/"
        },
        "id": "RrT2XSpj-IJg",
        "outputId": "33b90e5c-7d5d-401c-ba2d-4063c2070843"
      },
      "source": [
        "# Bayesian Classifier (Missing 20%)\n",
        "automlclassifier_b2=classifier.AutoSklearnClassifier(metric = autosklearn.metrics.f1,\n",
        "                                                   time_left_for_this_task=300,\n",
        "                                                   per_run_time_limit=60)\n",
        "automlclassifier_b2.fit(X_train_b2,y_train_b2)"
      ],
      "execution_count": 8,
      "outputs": [
        {
          "output_type": "execute_result",
          "data": {
            "text/plain": [
              "AutoSklearnClassifier(metric=f1, per_run_time_limit=60,\n",
              "                      time_left_for_this_task=300)"
            ]
          },
          "metadata": {
            "tags": []
          },
          "execution_count": 8
        }
      ]
    },
    {
      "cell_type": "code",
      "metadata": {
        "colab": {
          "base_uri": "https://localhost:8080/"
        },
        "id": "zLgvoZKI-Tix",
        "outputId": "b654635f-dca1-40e7-9310-4c3ef917b4bc"
      },
      "source": [
        "# Bayesian Classifier (Missing 30%)\n",
        "automlclassifier_b3=classifier.AutoSklearnClassifier(metric = autosklearn.metrics.f1,\n",
        "                                                   time_left_for_this_task=300,\n",
        "                                                   per_run_time_limit=60)\n",
        "automlclassifier_b3.fit(X_train_b3,y_train_b3)"
      ],
      "execution_count": null,
      "outputs": [
        {
          "output_type": "execute_result",
          "data": {
            "text/plain": [
              "AutoSklearnClassifier(metric=f1, per_run_time_limit=60,\n",
              "                      time_left_for_this_task=300)"
            ]
          },
          "metadata": {
            "tags": []
          },
          "execution_count": 14
        }
      ]
    },
    {
      "cell_type": "code",
      "metadata": {
        "colab": {
          "base_uri": "https://localhost:8080/"
        },
        "id": "ZgqA-ipABGYz",
        "outputId": "9db81dad-d494-4602-b22b-f5f8f33b013c"
      },
      "source": [
        "# Bayesian Classifier (Missing 40%)\n",
        "automlclassifier_b4=classifier.AutoSklearnClassifier(metric = autosklearn.metrics.f1,\n",
        "                                                   time_left_for_this_task=300,\n",
        "                                                   per_run_time_limit=60)\n",
        "automlclassifier_b4.fit(X_train_b4,y_train_b4)"
      ],
      "execution_count": 9,
      "outputs": [
        {
          "output_type": "execute_result",
          "data": {
            "text/plain": [
              "AutoSklearnClassifier(metric=f1, per_run_time_limit=60,\n",
              "                      time_left_for_this_task=300)"
            ]
          },
          "metadata": {
            "tags": []
          },
          "execution_count": 9
        }
      ]
    },
    {
      "cell_type": "code",
      "metadata": {
        "colab": {
          "base_uri": "https://localhost:8080/"
        },
        "id": "_GvTl-fbBIhK",
        "outputId": "e01442e2-6f7e-4b23-efce-c68c1802ae0c"
      },
      "source": [
        "# Bayesian Classifier (Missing 50%)\n",
        "automlclassifier_b5=classifier.AutoSklearnClassifier(metric = autosklearn.metrics.f1,\n",
        "                                                   time_left_for_this_task=300,\n",
        "                                                   per_run_time_limit=60)\n",
        "automlclassifier_b5.fit(X_train_b5,y_train_b5)"
      ],
      "execution_count": 10,
      "outputs": [
        {
          "output_type": "execute_result",
          "data": {
            "text/plain": [
              "AutoSklearnClassifier(metric=f1, per_run_time_limit=60,\n",
              "                      time_left_for_this_task=300)"
            ]
          },
          "metadata": {
            "tags": []
          },
          "execution_count": 10
        }
      ]
    },
    {
      "cell_type": "code",
      "metadata": {
        "id": "xuoKaIP88Bgg"
      },
      "source": [
        "from sklearn.metrics import f1_score"
      ],
      "execution_count": 15,
      "outputs": []
    },
    {
      "cell_type": "code",
      "metadata": {
        "colab": {
          "base_uri": "https://localhost:8080/"
        },
        "id": "x9ucr3Pd6aM6",
        "outputId": "6129a68a-a80b-411e-ea5b-7fc734722d83"
      },
      "source": [
        "# Prediction and F1 (Bayesian Missing 0.1)\n",
        "y_pred_b1 = automlclassifier_b1.predict(X_test_b1)\n",
        "\n",
        "f1score_b1 = f1_score(y_test_b1, y_pred_b1)\n",
        "\n",
        "print(\"F1 Score:\", f1score_b1)"
      ],
      "execution_count": 20,
      "outputs": [
        {
          "output_type": "stream",
          "text": [
            "F1 Score: 0.3395061728395062\n"
          ],
          "name": "stdout"
        }
      ]
    },
    {
      "cell_type": "code",
      "metadata": {
        "colab": {
          "base_uri": "https://localhost:8080/"
        },
        "id": "ZyulMjTl_vhx",
        "outputId": "3f774ceb-da2b-4cd8-906d-560f4a32980a"
      },
      "source": [
        "# Prediction and F1 (Bayesian Missing 0.2)\n",
        "y_pred_b2 = automlclassifier_b2.predict(X_test_b2)\n",
        "f1score_b2 = f1_score(y_test_b2, y_pred_b2)\n",
        "\n",
        "print(\"F1 Score:\", f1score_b2)"
      ],
      "execution_count": 13,
      "outputs": [
        {
          "output_type": "stream",
          "text": [
            "F1 Score: 0.31210191082802546\n"
          ],
          "name": "stdout"
        }
      ]
    },
    {
      "cell_type": "code",
      "metadata": {
        "colab": {
          "base_uri": "https://localhost:8080/"
        },
        "id": "VX9C2i2YABPT",
        "outputId": "2af3d858-a7ad-4606-f1a4-55957d6a591e"
      },
      "source": [
        "# Prediction and F1 (Bayesian Missing 0.3)\n",
        "y_pred_b3 = automlclassifier_b3.predict(X_test_b3)\n",
        "f1score_b3 = f1_score(y_test_b3, y_pred_b3)\n",
        "\n",
        "print(\"F1 Score:\", f1score_b3)"
      ],
      "execution_count": 14,
      "outputs": [
        {
          "output_type": "stream",
          "text": [
            "F1 Score: 0.3306451612903225\n"
          ],
          "name": "stdout"
        }
      ]
    },
    {
      "cell_type": "code",
      "metadata": {
        "colab": {
          "base_uri": "https://localhost:8080/"
        },
        "id": "2I922ztlBax0",
        "outputId": "7b9e68f5-38cc-496f-ac15-ce80f41c025f"
      },
      "source": [
        "# Prediction and F1 (Bayesian Missing 0.1)\n",
        "y_pred_b4 = automlclassifier_b4.predict(X_test_b4)\n",
        "f1score_b4 = f1_score(y_test_b4, y_pred_b4)\n",
        "\n",
        "print(\"F1 Score:\", f1score_b4)"
      ],
      "execution_count": 16,
      "outputs": [
        {
          "output_type": "stream",
          "text": [
            "F1 Score: 0.27522935779816515\n"
          ],
          "name": "stdout"
        }
      ]
    },
    {
      "cell_type": "code",
      "metadata": {
        "colab": {
          "base_uri": "https://localhost:8080/"
        },
        "id": "BgdAoea5Bgcq",
        "outputId": "11a3fa71-11e0-45ab-a0a1-3f92e060fcb8"
      },
      "source": [
        "# Prediction and F1 (Bayesian Missing 0.1)\n",
        "y_pred_b5 = automlclassifier_b5.predict(X_test_b5)\n",
        "f1score_b5 = f1_score(y_test_b5, y_pred_b5)\n",
        "\n",
        "print(\"F1 Score:\", f1score_b5)"
      ],
      "execution_count": 17,
      "outputs": [
        {
          "output_type": "stream",
          "text": [
            "F1 Score: 0.2838709677419355\n"
          ],
          "name": "stdout"
        }
      ]
    },
    {
      "cell_type": "code",
      "metadata": {
        "id": "lVatJtX984Mb"
      },
      "source": [
        "# Print Final Ensemble (Train/Test 1)\n",
        "print(automlclassifier3.show_models())"
      ],
      "execution_count": null,
      "outputs": []
    },
    {
      "cell_type": "markdown",
      "metadata": {
        "id": "toUMn-ypgD9k"
      },
      "source": [
        "#Auto-sklearn Framingham Imputed Decision Tree"
      ]
    },
    {
      "cell_type": "code",
      "metadata": {
        "id": "_Hn0Z44lcFAx"
      },
      "source": [
        "# Load in Data for DT Imputation\n",
        "import pickle\n",
        "\n",
        "with open('prediction_data_decisiontree_missrate=0.1.pkl', 'rb') as f:\n",
        "    dt1 = pickle.load(f)\n",
        "with open('prediction_data_decisiontree_missrate=0.2.pkl', 'rb') as f:\n",
        "    dt2 = pickle.load(f)\n",
        "with open('prediction_data_decisiontree_missrate=0.3.pkl', 'rb') as f:\n",
        "    dt3 = pickle.load(f)\n",
        "with open('prediction_data_decisiontree_missrate=0.4.pkl', 'rb') as f:\n",
        "    dt4 = pickle.load(f)\n",
        "with open('prediction_data_decisiontree_missrate=0.5.pkl', 'rb') as f:\n",
        "    dt5 = pickle.load(f)"
      ],
      "execution_count": 23,
      "outputs": []
    },
    {
      "cell_type": "code",
      "metadata": {
        "id": "oSJsN1K0cSb3"
      },
      "source": [
        "# Create X and y for Each DT DF\n",
        "X_d1 = dt1.iloc[:, :-1]\n",
        "y_d1 = dt1.iloc[:, -1]\n",
        "\n",
        "X_d2 = dt2.iloc[:, :-1]\n",
        "y_d2 = dt2.iloc[:, -1]\n",
        "\n",
        "X_d3 = dt3.iloc[:, :-1]\n",
        "y_d3 = dt3.iloc[:, -1]\n",
        "\n",
        "X_d4 = dt4.iloc[:, :-1]\n",
        "y_d4 = dt4.iloc[:, -1]\n",
        "\n",
        "X_d5 = dt5.iloc[:, :-1]\n",
        "y_d5 = dt5.iloc[:, -1]"
      ],
      "execution_count": 30,
      "outputs": []
    },
    {
      "cell_type": "code",
      "metadata": {
        "id": "0GvuJJkNcoDw"
      },
      "source": [
        "# Train Test Split for Each DT DF\n",
        "X_train_d1, X_test_d1, y_train_d1, y_test_d1 = train_test_split(X_d1, y_d1, test_size = 0.2, random_state = 123)\n",
        "X_train_d2, X_test_d2, y_train_d2, y_test_d2 = train_test_split(X_d2, y_d2, test_size = 0.2, random_state = 123)\n",
        "X_train_d3, X_test_d3, y_train_d3, y_test_d3 = train_test_split(X_d3, y_d3, test_size = 0.2, random_state = 123)\n",
        "X_train_d4, X_test_d4, y_train_d4, y_test_d4 = train_test_split(X_d4, y_d4, test_size = 0.2, random_state = 123)\n",
        "X_train_d5, X_test_d5, y_train_d5, y_test_d5 = train_test_split(X_d5, y_d5, test_size = 0.2, random_state = 123)"
      ],
      "execution_count": 31,
      "outputs": []
    },
    {
      "cell_type": "code",
      "metadata": {
        "colab": {
          "base_uri": "https://localhost:8080/"
        },
        "id": "rjQnA59_c2lc",
        "outputId": "f0829b88-b932-4b8c-f308-084f28387282"
      },
      "source": [
        "# DT Classifier (Missing 10%)\n",
        "automlclassifier_d1=classifier.AutoSklearnClassifier(metric = autosklearn.metrics.f1,\n",
        "                                                   time_left_for_this_task=300,\n",
        "                                                   per_run_time_limit=60)\n",
        "automlclassifier_d1.fit(X_train_d1,y_train_d1)"
      ],
      "execution_count": 26,
      "outputs": [
        {
          "output_type": "execute_result",
          "data": {
            "text/plain": [
              "AutoSklearnClassifier(metric=f1, per_run_time_limit=60,\n",
              "                      time_left_for_this_task=300)"
            ]
          },
          "metadata": {
            "tags": []
          },
          "execution_count": 26
        }
      ]
    },
    {
      "cell_type": "code",
      "metadata": {
        "colab": {
          "base_uri": "https://localhost:8080/"
        },
        "id": "da0TGd8Ac9FT",
        "outputId": "765e822e-5211-4adf-a78e-28b74bf4a596"
      },
      "source": [
        "# DT Classifier (Missing 20%)\n",
        "automlclassifier_d2=classifier.AutoSklearnClassifier(metric = autosklearn.metrics.f1,\n",
        "                                                   time_left_for_this_task=300,\n",
        "                                                   per_run_time_limit=60)\n",
        "automlclassifier_d2.fit(X_train_d2,y_train_d2)"
      ],
      "execution_count": 32,
      "outputs": [
        {
          "output_type": "execute_result",
          "data": {
            "text/plain": [
              "AutoSklearnClassifier(metric=f1, per_run_time_limit=60,\n",
              "                      time_left_for_this_task=300)"
            ]
          },
          "metadata": {
            "tags": []
          },
          "execution_count": 32
        }
      ]
    },
    {
      "cell_type": "code",
      "metadata": {
        "colab": {
          "base_uri": "https://localhost:8080/"
        },
        "id": "ppYM69uGdCg-",
        "outputId": "b0eb1390-3c07-4e6f-a81d-8734875ca8a3"
      },
      "source": [
        "# DT Classifier (Missing 30%)\n",
        "automlclassifier_d3=classifier.AutoSklearnClassifier(metric = autosklearn.metrics.f1,\n",
        "                                                   time_left_for_this_task=300,\n",
        "                                                   per_run_time_limit=60)\n",
        "automlclassifier_d3.fit(X_train_d3,y_train_d3)"
      ],
      "execution_count": 33,
      "outputs": [
        {
          "output_type": "execute_result",
          "data": {
            "text/plain": [
              "AutoSklearnClassifier(metric=f1, per_run_time_limit=60,\n",
              "                      time_left_for_this_task=300)"
            ]
          },
          "metadata": {
            "tags": []
          },
          "execution_count": 33
        }
      ]
    },
    {
      "cell_type": "code",
      "metadata": {
        "colab": {
          "base_uri": "https://localhost:8080/"
        },
        "id": "VPMbBBJIdCrR",
        "outputId": "844869bd-02cb-41f5-d409-94c910fe6421"
      },
      "source": [
        "# DT Classifier (Missing 40%)\n",
        "automlclassifier_d4=classifier.AutoSklearnClassifier(metric = autosklearn.metrics.f1,\n",
        "                                                   time_left_for_this_task=300,\n",
        "                                                   per_run_time_limit=60)\n",
        "automlclassifier_d4.fit(X_train_d4,y_train_d4)"
      ],
      "execution_count": 34,
      "outputs": [
        {
          "output_type": "execute_result",
          "data": {
            "text/plain": [
              "AutoSklearnClassifier(metric=f1, per_run_time_limit=60,\n",
              "                      time_left_for_this_task=300)"
            ]
          },
          "metadata": {
            "tags": []
          },
          "execution_count": 34
        }
      ]
    },
    {
      "cell_type": "code",
      "metadata": {
        "colab": {
          "base_uri": "https://localhost:8080/"
        },
        "id": "-JoSvBVGdCzu",
        "outputId": "581caf2f-fcc7-4892-e2b8-ef49044af983"
      },
      "source": [
        "# DT Classifier (Missing 50%)\n",
        "automlclassifier_d5=classifier.AutoSklearnClassifier(metric = autosklearn.metrics.f1,\n",
        "                                                   time_left_for_this_task=300,\n",
        "                                                   per_run_time_limit=60)\n",
        "automlclassifier_d5.fit(X_train_d5,y_train_d5)"
      ],
      "execution_count": 35,
      "outputs": [
        {
          "output_type": "execute_result",
          "data": {
            "text/plain": [
              "AutoSklearnClassifier(metric=f1, per_run_time_limit=60,\n",
              "                      time_left_for_this_task=300)"
            ]
          },
          "metadata": {
            "tags": []
          },
          "execution_count": 35
        }
      ]
    },
    {
      "cell_type": "code",
      "metadata": {
        "colab": {
          "base_uri": "https://localhost:8080/"
        },
        "id": "sy5w5PpadYgo",
        "outputId": "6dc01f3c-34d1-4b53-81fe-40c70646ef74"
      },
      "source": [
        "# Prediction and F1 (DT Missing 0.1)\n",
        "y_pred_d1 = automlclassifier_d1.predict(X_test_d1)\n",
        "\n",
        "f1score_d1 = f1_score(y_test_d1, y_pred_d1)\n",
        "\n",
        "print(\"F1 Score:\", f1score_d1)"
      ],
      "execution_count": 36,
      "outputs": [
        {
          "output_type": "stream",
          "text": [
            "F1 Score: 0.3191489361702128\n"
          ],
          "name": "stdout"
        }
      ]
    },
    {
      "cell_type": "code",
      "metadata": {
        "colab": {
          "base_uri": "https://localhost:8080/"
        },
        "id": "I4T-49ARdY67",
        "outputId": "6572960f-0d15-441c-ede2-a0fbb7ed252d"
      },
      "source": [
        "# Prediction and F1 (DT Missing 0.2)\n",
        "y_pred_d2 = automlclassifier_d2.predict(X_test_d2)\n",
        "\n",
        "f1score_d2 = f1_score(y_test_d2, y_pred_d2)\n",
        "\n",
        "print(\"F1 Score:\", f1score_d2)"
      ],
      "execution_count": 37,
      "outputs": [
        {
          "output_type": "stream",
          "text": [
            "F1 Score: 0.30943396226415093\n"
          ],
          "name": "stdout"
        }
      ]
    },
    {
      "cell_type": "code",
      "metadata": {
        "colab": {
          "base_uri": "https://localhost:8080/"
        },
        "id": "GIQhjRW7dZC2",
        "outputId": "126f74f9-01fb-44be-ae8b-4c4b133dd272"
      },
      "source": [
        "# Prediction and F1 (DT Missing 0.3)\n",
        "y_pred_d3 = automlclassifier_d3.predict(X_test_d3)\n",
        "\n",
        "f1score_d3 = f1_score(y_test_d3, y_pred_d3)\n",
        "\n",
        "print(\"F1 Score:\", f1score_d3)"
      ],
      "execution_count": 38,
      "outputs": [
        {
          "output_type": "stream",
          "text": [
            "F1 Score: 0.2578397212543554\n"
          ],
          "name": "stdout"
        }
      ]
    },
    {
      "cell_type": "code",
      "metadata": {
        "colab": {
          "base_uri": "https://localhost:8080/"
        },
        "id": "9yE1Y4nIdZOB",
        "outputId": "f657b473-afe4-444b-ac19-950423cec7c3"
      },
      "source": [
        "# Prediction and F1 (DT Missing 0.4)\n",
        "y_pred_d4 = automlclassifier_d4.predict(X_test_d4)\n",
        "\n",
        "f1score_d4 = f1_score(y_test_d4, y_pred_d4)\n",
        "\n",
        "print(\"F1 Score:\", f1score_d4)"
      ],
      "execution_count": 39,
      "outputs": [
        {
          "output_type": "stream",
          "text": [
            "F1 Score: 0.2786885245901639\n"
          ],
          "name": "stdout"
        }
      ]
    },
    {
      "cell_type": "code",
      "metadata": {
        "colab": {
          "base_uri": "https://localhost:8080/"
        },
        "id": "GQpLXGzCdZZG",
        "outputId": "d9d4ecc8-0969-47c5-dbe1-92eeec4f420c"
      },
      "source": [
        "# Prediction and F1 (DT Missing 0.5)\n",
        "y_pred_d5 = automlclassifier_d5.predict(X_test_d5)\n",
        "\n",
        "f1score_d5 = f1_score(y_test_d5, y_pred_d5)\n",
        "\n",
        "print(\"F1 Score:\", f1score_d5)"
      ],
      "execution_count": 40,
      "outputs": [
        {
          "output_type": "stream",
          "text": [
            "F1 Score: 0.27355623100303955\n"
          ],
          "name": "stdout"
        }
      ]
    },
    {
      "cell_type": "markdown",
      "metadata": {
        "id": "8wZRNZZYfFCs"
      },
      "source": [
        "#Auto-sklearn Framingham Imputed KNN"
      ]
    },
    {
      "cell_type": "code",
      "metadata": {
        "id": "2kuc2zMEfEb5"
      },
      "source": [
        "# Load in Data for KNN Imputation\n",
        "with open('prediction_data_knn_missrate=0.1.pkl', 'rb') as f:\n",
        "    knn1 = pickle.load(f)\n",
        "with open('prediction_data_knn_missrate=0.2.pkl', 'rb') as f:\n",
        "    knn2 = pickle.load(f)\n",
        "with open('prediction_data_knn_missrate=0.3.pkl', 'rb') as f:\n",
        "    knn3 = pickle.load(f)\n",
        "with open('prediction_data_knn_missrate=0.4.pkl', 'rb') as f:\n",
        "    knn4 = pickle.load(f)\n",
        "with open('prediction_data_knn_missrate=0.5.pkl', 'rb') as f:\n",
        "    knn5 = pickle.load(f)"
      ],
      "execution_count": 42,
      "outputs": []
    },
    {
      "cell_type": "code",
      "metadata": {
        "id": "_CEmOPtLfXFF"
      },
      "source": [
        "# Create X and y for Each KNN DF\n",
        "X_k1 = knn1.iloc[:, :-1]\n",
        "y_k1 = knn1.iloc[:, -1]\n",
        "\n",
        "X_k2 = knn2.iloc[:, :-1]\n",
        "y_k2 = knn2.iloc[:, -1]\n",
        "\n",
        "X_k3 = knn3.iloc[:, :-1]\n",
        "y_k3 = knn3.iloc[:, -1]\n",
        "\n",
        "X_k4 = knn4.iloc[:, :-1]\n",
        "y_k4 = knn4.iloc[:, -1]\n",
        "\n",
        "X_k5 = knn5.iloc[:, :-1]\n",
        "y_k5 = knn5.iloc[:, -1]"
      ],
      "execution_count": 44,
      "outputs": []
    },
    {
      "cell_type": "code",
      "metadata": {
        "id": "Kyx4oCdIhNHm"
      },
      "source": [
        "# Train Test Split for Each KNN DF\n",
        "X_train_k1, X_test_k1, y_train_k1, y_test_k1 = train_test_split(X_k1, y_k1, test_size = 0.2, random_state = 123)\n",
        "X_train_k2, X_test_k2, y_train_k2, y_test_k2 = train_test_split(X_k2, y_k2, test_size = 0.2, random_state = 123)\n",
        "X_train_k3, X_test_k3, y_train_k3, y_test_k3 = train_test_split(X_k3, y_k3, test_size = 0.2, random_state = 123)\n",
        "X_train_k4, X_test_k4, y_train_k4, y_test_k4 = train_test_split(X_k4, y_k4, test_size = 0.2, random_state = 123)\n",
        "X_train_k5, X_test_k5, y_train_k5, y_test_k5 = train_test_split(X_k5, y_k5, test_size = 0.2, random_state = 123)"
      ],
      "execution_count": 45,
      "outputs": []
    },
    {
      "cell_type": "code",
      "metadata": {
        "colab": {
          "base_uri": "https://localhost:8080/"
        },
        "id": "Ae4-sTRHiJKI",
        "outputId": "f3bb8677-8b21-4419-fb79-f3c2e31dd710"
      },
      "source": [
        "# KNN Classifier (Missing 10%)\n",
        "automlclassifier_k1=classifier.AutoSklearnClassifier(metric = autosklearn.metrics.f1,\n",
        "                                                   time_left_for_this_task=300,\n",
        "                                                   per_run_time_limit=60)\n",
        "automlclassifier_k1.fit(X_train_k1,y_train_k1)"
      ],
      "execution_count": 46,
      "outputs": [
        {
          "output_type": "execute_result",
          "data": {
            "text/plain": [
              "AutoSklearnClassifier(metric=f1, per_run_time_limit=60,\n",
              "                      time_left_for_this_task=300)"
            ]
          },
          "metadata": {
            "tags": []
          },
          "execution_count": 46
        }
      ]
    },
    {
      "cell_type": "code",
      "metadata": {
        "colab": {
          "base_uri": "https://localhost:8080/"
        },
        "id": "z5jcY3VsiJUH",
        "outputId": "919fab6b-4776-47fb-e65c-0460298fc3ef"
      },
      "source": [
        "# KNN Classifier (Missing 20%)\n",
        "automlclassifier_k2=classifier.AutoSklearnClassifier(metric = autosklearn.metrics.f1,\n",
        "                                                   time_left_for_this_task=300,\n",
        "                                                   per_run_time_limit=60)\n",
        "automlclassifier_k2.fit(X_train_k2,y_train_k2)"
      ],
      "execution_count": 47,
      "outputs": [
        {
          "output_type": "execute_result",
          "data": {
            "text/plain": [
              "AutoSklearnClassifier(metric=f1, per_run_time_limit=60,\n",
              "                      time_left_for_this_task=300)"
            ]
          },
          "metadata": {
            "tags": []
          },
          "execution_count": 47
        }
      ]
    },
    {
      "cell_type": "code",
      "metadata": {
        "colab": {
          "base_uri": "https://localhost:8080/"
        },
        "id": "2Q8m6yM6iJgb",
        "outputId": "80b09c89-e0d8-413e-88cf-7f52a5be0141"
      },
      "source": [
        "# KNN Classifier (Missing 30%)\n",
        "automlclassifier_k3=classifier.AutoSklearnClassifier(metric = autosklearn.metrics.f1,\n",
        "                                                   time_left_for_this_task=300,\n",
        "                                                   per_run_time_limit=60)\n",
        "automlclassifier_k3.fit(X_train_k3,y_train_k3)"
      ],
      "execution_count": 48,
      "outputs": [
        {
          "output_type": "execute_result",
          "data": {
            "text/plain": [
              "AutoSklearnClassifier(metric=f1, per_run_time_limit=60,\n",
              "                      time_left_for_this_task=300)"
            ]
          },
          "metadata": {
            "tags": []
          },
          "execution_count": 48
        }
      ]
    },
    {
      "cell_type": "code",
      "metadata": {
        "colab": {
          "base_uri": "https://localhost:8080/"
        },
        "id": "G09DuBo8iJq6",
        "outputId": "1fc49882-05e9-4532-c6ce-b06d0438e958"
      },
      "source": [
        "# KNN Classifier (Missing 40%)\n",
        "automlclassifier_k4=classifier.AutoSklearnClassifier(metric = autosklearn.metrics.f1,\n",
        "                                                   time_left_for_this_task=300,\n",
        "                                                   per_run_time_limit=60)\n",
        "automlclassifier_k4.fit(X_train_k4,y_train_k4)"
      ],
      "execution_count": 49,
      "outputs": [
        {
          "output_type": "execute_result",
          "data": {
            "text/plain": [
              "AutoSklearnClassifier(metric=f1, per_run_time_limit=60,\n",
              "                      time_left_for_this_task=300)"
            ]
          },
          "metadata": {
            "tags": []
          },
          "execution_count": 49
        }
      ]
    },
    {
      "cell_type": "code",
      "metadata": {
        "colab": {
          "base_uri": "https://localhost:8080/"
        },
        "id": "1VE_PPKLiJ1c",
        "outputId": "fbfc5162-3f6e-4758-ff6e-f1b76a574b14"
      },
      "source": [
        "# KNN Classifier (Missing 50%)\n",
        "automlclassifier_k5=classifier.AutoSklearnClassifier(metric = autosklearn.metrics.f1,\n",
        "                                                   time_left_for_this_task=300,\n",
        "                                                   per_run_time_limit=60)\n",
        "automlclassifier_k5.fit(X_train_k5,y_train_k5)"
      ],
      "execution_count": 50,
      "outputs": [
        {
          "output_type": "execute_result",
          "data": {
            "text/plain": [
              "AutoSklearnClassifier(metric=f1, per_run_time_limit=60,\n",
              "                      time_left_for_this_task=300)"
            ]
          },
          "metadata": {
            "tags": []
          },
          "execution_count": 50
        }
      ]
    },
    {
      "cell_type": "code",
      "metadata": {
        "colab": {
          "base_uri": "https://localhost:8080/"
        },
        "id": "rqEQvwJUizaP",
        "outputId": "0fe01991-e17e-40f8-dfa3-55e8acdf3b09"
      },
      "source": [
        "# Prediction and F1 (KNN Missing 0.1)\n",
        "y_pred_k1 = automlclassifier_k1.predict(X_test_k1)\n",
        "\n",
        "f1score_k1 = f1_score(y_test_k1, y_pred_k1)\n",
        "\n",
        "print(\"F1 Score:\", f1score_k1)"
      ],
      "execution_count": 51,
      "outputs": [
        {
          "output_type": "stream",
          "text": [
            "F1 Score: 0.3361344537815126\n"
          ],
          "name": "stdout"
        }
      ]
    },
    {
      "cell_type": "code",
      "metadata": {
        "colab": {
          "base_uri": "https://localhost:8080/"
        },
        "id": "Pidv-rbdizmJ",
        "outputId": "8391b1dc-fc9c-4000-df77-5bc798dd0942"
      },
      "source": [
        "# Prediction and F1 (KNN Missing 0.2)\n",
        "y_pred_k2 = automlclassifier_k2.predict(X_test_k2)\n",
        "\n",
        "f1score_k2 = f1_score(y_test_k2, y_pred_k2)\n",
        "\n",
        "print(\"F1 Score:\", f1score_k2)"
      ],
      "execution_count": 52,
      "outputs": [
        {
          "output_type": "stream",
          "text": [
            "F1 Score: 0.3230240549828179\n"
          ],
          "name": "stdout"
        }
      ]
    },
    {
      "cell_type": "code",
      "metadata": {
        "colab": {
          "base_uri": "https://localhost:8080/"
        },
        "id": "wMDxPpJ8izvS",
        "outputId": "eaba9e54-56e6-4e2f-adc1-b7dbd6ba366b"
      },
      "source": [
        "# Prediction and F1 (KNN Missing 0.3)\n",
        "y_pred_k3 = automlclassifier_k3.predict(X_test_k3)\n",
        "\n",
        "f1score_k3 = f1_score(y_test_k3, y_pred_k3)\n",
        "\n",
        "print(\"F1 Score:\", f1score_k3)"
      ],
      "execution_count": 53,
      "outputs": [
        {
          "output_type": "stream",
          "text": [
            "F1 Score: 0.32941176470588235\n"
          ],
          "name": "stdout"
        }
      ]
    },
    {
      "cell_type": "code",
      "metadata": {
        "colab": {
          "base_uri": "https://localhost:8080/"
        },
        "id": "gOUjPAgOiz5W",
        "outputId": "dfec9f50-b892-41c3-b89a-ea20efd54c45"
      },
      "source": [
        "# Prediction and F1 (KNN Missing 0.4)\n",
        "y_pred_k4 = automlclassifier_k4.predict(X_test_k4)\n",
        "\n",
        "f1score_k4 = f1_score(y_test_k4, y_pred_k4)\n",
        "\n",
        "print(\"F1 Score:\", f1score_k4)"
      ],
      "execution_count": 54,
      "outputs": [
        {
          "output_type": "stream",
          "text": [
            "F1 Score: 0.3006134969325153\n"
          ],
          "name": "stdout"
        }
      ]
    },
    {
      "cell_type": "code",
      "metadata": {
        "colab": {
          "base_uri": "https://localhost:8080/"
        },
        "id": "6szszscLi0CM",
        "outputId": "9ca469b6-e1d7-48c4-fa44-5a2b1c191b99"
      },
      "source": [
        "# Prediction and F1 (KNN Missing 0.5)\n",
        "y_pred_k5 = automlclassifier_k5.predict(X_test_k5)\n",
        "\n",
        "f1score_k5 = f1_score(y_test_k5, y_pred_k5)\n",
        "\n",
        "print(\"F1 Score:\", f1score_k5)"
      ],
      "execution_count": 55,
      "outputs": [
        {
          "output_type": "stream",
          "text": [
            "F1 Score: 0.26857142857142857\n"
          ],
          "name": "stdout"
        }
      ]
    },
    {
      "cell_type": "markdown",
      "metadata": {
        "id": "0AXdvtxOfXY2"
      },
      "source": [
        "#Auto-sklearn Framingham Imputed MICE"
      ]
    },
    {
      "cell_type": "code",
      "metadata": {
        "id": "bFAe_6yPfb8R"
      },
      "source": [
        "# Load in Data for MICE Imputation\n",
        "with open('prediction_data_mice_missrate=0.1.pkl', 'rb') as f:\n",
        "    m1 = pickle.load(f)\n",
        "with open('prediction_data_mice_missrate=0.2.pkl', 'rb') as f:\n",
        "    m2 = pickle.load(f)\n",
        "with open('prediction_data_mice_missrate=0.3.pkl', 'rb') as f:\n",
        "    m3 = pickle.load(f)\n",
        "with open('prediction_data_mice_missrate=0.4.pkl', 'rb') as f:\n",
        "    m4 = pickle.load(f)\n",
        "with open('prediction_data_mice_missrate=0.5.pkl', 'rb') as f:\n",
        "    m5 = pickle.load(f)"
      ],
      "execution_count": 56,
      "outputs": []
    },
    {
      "cell_type": "code",
      "metadata": {
        "id": "wWLmlo1XTWpA"
      },
      "source": [
        ""
      ],
      "execution_count": null,
      "outputs": []
    },
    {
      "cell_type": "code",
      "metadata": {
        "id": "OI88GkoHgeQ5"
      },
      "source": [
        "# Create X and y for Each MICE DF\n",
        "X_m1 = m1.iloc[:, :-1]\n",
        "y_m1 = m1.iloc[:, -1]\n",
        "\n",
        "X_m2 = m2.iloc[:, :-1]\n",
        "y_m2 = m2.iloc[:, -1]\n",
        "\n",
        "X_m3 = m3.iloc[:, :-1]\n",
        "y_m3 = m3.iloc[:, -1]\n",
        "\n",
        "X_m4 = m4.iloc[:, :-1]\n",
        "y_m4 = m4.iloc[:, -1]\n",
        "\n",
        "X_m5 = m5.iloc[:, :-1]\n",
        "y_m5 = m5.iloc[:, -1]"
      ],
      "execution_count": 57,
      "outputs": []
    },
    {
      "cell_type": "code",
      "metadata": {
        "id": "BLixf7nqhXUY"
      },
      "source": [
        "# Train Test Split for Each MICE DF\n",
        "X_train_m1, X_test_m1, y_train_m1, y_test_m1 = train_test_split(X_m1, y_m1, test_size = 0.2, random_state = 123)\n",
        "X_train_m2, X_test_m2, y_train_m2, y_test_m2 = train_test_split(X_m2, y_m2, test_size = 0.2, random_state = 123)\n",
        "X_train_m3, X_test_m3, y_train_m3, y_test_m3 = train_test_split(X_m3, y_m3, test_size = 0.2, random_state = 123)\n",
        "X_train_m4, X_test_m4, y_train_m4, y_test_m4 = train_test_split(X_m4, y_m4, test_size = 0.2, random_state = 123)\n",
        "X_train_m5, X_test_m5, y_train_m5, y_test_m5 = train_test_split(X_m5, y_m5, test_size = 0.2, random_state = 123)"
      ],
      "execution_count": 58,
      "outputs": []
    },
    {
      "cell_type": "code",
      "metadata": {
        "colab": {
          "base_uri": "https://localhost:8080/"
        },
        "id": "nuZCG_CXhxZ7",
        "outputId": "2940d7cd-b573-4c07-c0b9-391b842837df"
      },
      "source": [
        "# MICE Classifier (Missing 10%)\n",
        "automlclassifier_m1=classifier.AutoSklearnClassifier(metric = autosklearn.metrics.f1,\n",
        "                                                   time_left_for_this_task=300,\n",
        "                                                   per_run_time_limit=60)\n",
        "automlclassifier_m1.fit(X_train_m1,y_train_m1)"
      ],
      "execution_count": 59,
      "outputs": [
        {
          "output_type": "execute_result",
          "data": {
            "text/plain": [
              "AutoSklearnClassifier(metric=f1, per_run_time_limit=60,\n",
              "                      time_left_for_this_task=300)"
            ]
          },
          "metadata": {
            "tags": []
          },
          "execution_count": 59
        }
      ]
    },
    {
      "cell_type": "code",
      "metadata": {
        "colab": {
          "base_uri": "https://localhost:8080/"
        },
        "id": "dPIRGXjhhxn2",
        "outputId": "f770405f-662b-450d-e9c5-9e30784d0852"
      },
      "source": [
        "# MICE Classifier (Missing 20%)\n",
        "automlclassifier_m2=classifier.AutoSklearnClassifier(metric = autosklearn.metrics.f1,\n",
        "                                                   time_left_for_this_task=300,\n",
        "                                                   per_run_time_limit=60)\n",
        "automlclassifier_m2.fit(X_train_m2,y_train_m2)"
      ],
      "execution_count": 60,
      "outputs": [
        {
          "output_type": "execute_result",
          "data": {
            "text/plain": [
              "AutoSklearnClassifier(metric=f1, per_run_time_limit=60,\n",
              "                      time_left_for_this_task=300)"
            ]
          },
          "metadata": {
            "tags": []
          },
          "execution_count": 60
        }
      ]
    },
    {
      "cell_type": "code",
      "metadata": {
        "colab": {
          "base_uri": "https://localhost:8080/"
        },
        "id": "1SX6X46ghxv_",
        "outputId": "1f7ee03a-a11e-4afa-e20b-9304069eb707"
      },
      "source": [
        "# MICE Classifier (Missing 30%)\n",
        "automlclassifier_m3=classifier.AutoSklearnClassifier(metric = autosklearn.metrics.f1,\n",
        "                                                   time_left_for_this_task=300,\n",
        "                                                   per_run_time_limit=60)\n",
        "automlclassifier_m3.fit(X_train_m3,y_train_m3)"
      ],
      "execution_count": 61,
      "outputs": [
        {
          "output_type": "execute_result",
          "data": {
            "text/plain": [
              "AutoSklearnClassifier(metric=f1, per_run_time_limit=60,\n",
              "                      time_left_for_this_task=300)"
            ]
          },
          "metadata": {
            "tags": []
          },
          "execution_count": 61
        }
      ]
    },
    {
      "cell_type": "code",
      "metadata": {
        "colab": {
          "base_uri": "https://localhost:8080/"
        },
        "id": "qRW0H54bhx40",
        "outputId": "7262dd80-1d28-4b9d-b486-406c47391006"
      },
      "source": [
        "# MICE Classifier (Missing 40%)\n",
        "automlclassifier_m4=classifier.AutoSklearnClassifier(metric = autosklearn.metrics.f1,\n",
        "                                                   time_left_for_this_task=300,\n",
        "                                                   per_run_time_limit=60)\n",
        "automlclassifier_m4.fit(X_train_m4,y_train_m4)"
      ],
      "execution_count": 62,
      "outputs": [
        {
          "output_type": "execute_result",
          "data": {
            "text/plain": [
              "AutoSklearnClassifier(metric=f1, per_run_time_limit=60,\n",
              "                      time_left_for_this_task=300)"
            ]
          },
          "metadata": {
            "tags": []
          },
          "execution_count": 62
        }
      ]
    },
    {
      "cell_type": "code",
      "metadata": {
        "colab": {
          "base_uri": "https://localhost:8080/"
        },
        "id": "3ULTGt8bhyBk",
        "outputId": "2de2ea81-47f9-42a3-fd42-9fd7028d0d5e"
      },
      "source": [
        "# MICE Classifier (Missing 50%)\n",
        "automlclassifier_m5=classifier.AutoSklearnClassifier(metric = autosklearn.metrics.f1,\n",
        "                                                   time_left_for_this_task=300,\n",
        "                                                   per_run_time_limit=60)\n",
        "automlclassifier_m5.fit(X_train_m5,y_train_m5)"
      ],
      "execution_count": 63,
      "outputs": [
        {
          "output_type": "execute_result",
          "data": {
            "text/plain": [
              "AutoSklearnClassifier(metric=f1, per_run_time_limit=60,\n",
              "                      time_left_for_this_task=300)"
            ]
          },
          "metadata": {
            "tags": []
          },
          "execution_count": 63
        }
      ]
    },
    {
      "cell_type": "code",
      "metadata": {
        "colab": {
          "base_uri": "https://localhost:8080/"
        },
        "id": "dbuqCKPljTBJ",
        "outputId": "d13fc7bf-490d-4cc5-fc83-f17a6da9df0b"
      },
      "source": [
        "# Prediction and F1 (MICE Missing 0.1)\n",
        "y_pred_m1 = automlclassifier_m1.predict(X_test_m1)\n",
        "\n",
        "f1score_m1 = f1_score(y_test_m1, y_pred_m1)\n",
        "\n",
        "print(\"F1 Score:\", f1score_m1)"
      ],
      "execution_count": 64,
      "outputs": [
        {
          "output_type": "stream",
          "text": [
            "F1 Score: 0.3430656934306569\n"
          ],
          "name": "stdout"
        }
      ]
    },
    {
      "cell_type": "code",
      "metadata": {
        "colab": {
          "base_uri": "https://localhost:8080/"
        },
        "id": "ZvroHsUhjTTA",
        "outputId": "4ee894b7-c052-4180-9ea8-df2382838f15"
      },
      "source": [
        "# Prediction and F1 (MICE Missing 0.2)\n",
        "y_pred_m2 = automlclassifier_m2.predict(X_test_m2)\n",
        "\n",
        "f1score_m2 = f1_score(y_test_m2, y_pred_m2)\n",
        "\n",
        "print(\"F1 Score:\", f1score_m2)"
      ],
      "execution_count": 65,
      "outputs": [
        {
          "output_type": "stream",
          "text": [
            "F1 Score: 0.3181818181818182\n"
          ],
          "name": "stdout"
        }
      ]
    },
    {
      "cell_type": "code",
      "metadata": {
        "colab": {
          "base_uri": "https://localhost:8080/"
        },
        "id": "BnF5CSEfjTcV",
        "outputId": "028c9557-05c8-4009-84a1-513ca8528cec"
      },
      "source": [
        "# Prediction and F1 (MICE Missing 0.3)\n",
        "y_pred_m3 = automlclassifier_m3.predict(X_test_m3)\n",
        "\n",
        "f1score_m3 = f1_score(y_test_m3, y_pred_m3)\n",
        "\n",
        "print(\"F1 Score:\", f1score_m3)"
      ],
      "execution_count": 66,
      "outputs": [
        {
          "output_type": "stream",
          "text": [
            "F1 Score: 0.3037974683544304\n"
          ],
          "name": "stdout"
        }
      ]
    },
    {
      "cell_type": "code",
      "metadata": {
        "colab": {
          "base_uri": "https://localhost:8080/"
        },
        "id": "_M7C8gJ_jTnI",
        "outputId": "797f0a9c-3b5c-4cc1-ac00-7c74c5f2407b"
      },
      "source": [
        "# Prediction and F1 (MICE Missing 0.4)\n",
        "y_pred_m4 = automlclassifier_m4.predict(X_test_m4)\n",
        "\n",
        "f1score_m4 = f1_score(y_test_m4, y_pred_m4)\n",
        "\n",
        "print(\"F1 Score:\", f1score_m4)"
      ],
      "execution_count": 67,
      "outputs": [
        {
          "output_type": "stream",
          "text": [
            "F1 Score: 0.24028268551236748\n"
          ],
          "name": "stdout"
        }
      ]
    },
    {
      "cell_type": "code",
      "metadata": {
        "colab": {
          "base_uri": "https://localhost:8080/"
        },
        "id": "QuPgL3TcjTxi",
        "outputId": "b7be506f-b8d2-4d27-8b28-cf2065602810"
      },
      "source": [
        "# Prediction and F1 (MICE Missing 0.5)\n",
        "y_pred_m5 = automlclassifier_m5.predict(X_test_m5)\n",
        "\n",
        "f1score_m5 = f1_score(y_test_m5, y_pred_m5)\n",
        "\n",
        "print(\"F1 Score:\", f1score_m5)"
      ],
      "execution_count": 68,
      "outputs": [
        {
          "output_type": "stream",
          "text": [
            "F1 Score: 0.29538461538461536\n"
          ],
          "name": "stdout"
        }
      ]
    },
    {
      "cell_type": "markdown",
      "metadata": {
        "id": "hOmU_Khpfdw3"
      },
      "source": [
        "#Auto-sklearn Framingham Imputed Random Forest"
      ]
    },
    {
      "cell_type": "code",
      "metadata": {
        "id": "Wpt9JHsDfhw5"
      },
      "source": [
        "# Load in Data for Random Forest Imputation\n",
        "with open('prediction_data_randomforest_missrate=0.1.pkl', 'rb') as f:\n",
        "    rf1 = pickle.load(f)\n",
        "with open('prediction_data_randomforest_missrate=0.2.pkl', 'rb') as f:\n",
        "    rf2 = pickle.load(f)\n",
        "with open('prediction_data_randomforest_missrate=0.3.pkl', 'rb') as f:\n",
        "    rf3 = pickle.load(f)\n",
        "with open('prediction_data_randomforest_missrate=0.4.pkl', 'rb') as f:\n",
        "    rf4 = pickle.load(f)\n",
        "with open('prediction_data_randomforest_missrate=0.5.pkl', 'rb') as f:\n",
        "    rf5 = pickle.load(f)"
      ],
      "execution_count": 69,
      "outputs": []
    },
    {
      "cell_type": "code",
      "metadata": {
        "id": "XdlSkPZ2gfSs"
      },
      "source": [
        "# Create X and y for Each Random Forest DF\n",
        "X_r1 = rf1.iloc[:, :-1]\n",
        "y_r1 = rf1.iloc[:, -1]\n",
        "\n",
        "X_r2 = rf2.iloc[:, :-1]\n",
        "y_r2 = rf2.iloc[:, -1]\n",
        "\n",
        "X_r3 = rf3.iloc[:, :-1]\n",
        "y_r3 = rf3.iloc[:, -1]\n",
        "\n",
        "X_r4 = rf4.iloc[:, :-1]\n",
        "y_r4 = rf4.iloc[:, -1]\n",
        "\n",
        "X_r5 = rf5.iloc[:, :-1]\n",
        "y_r5 = rf5.iloc[:, -1]"
      ],
      "execution_count": 70,
      "outputs": []
    },
    {
      "cell_type": "code",
      "metadata": {
        "id": "th6LaPE-hfe2"
      },
      "source": [
        "# Train Test Split for Each Random Forest DF\n",
        "X_train_r1, X_test_r1, y_train_r1, y_test_r1 = train_test_split(X_r1, y_r1, test_size = 0.2, random_state = 123)\n",
        "X_train_r2, X_test_r2, y_train_r2, y_test_r2 = train_test_split(X_r2, y_r2, test_size = 0.2, random_state = 123)\n",
        "X_train_r3, X_test_r3, y_train_r3, y_test_r3 = train_test_split(X_r3, y_r3, test_size = 0.2, random_state = 123)\n",
        "X_train_r4, X_test_r4, y_train_r4, y_test_r4 = train_test_split(X_r4, y_r4, test_size = 0.2, random_state = 123)\n",
        "X_train_r5, X_test_r5, y_train_r5, y_test_r5 = train_test_split(X_r5, y_r5, test_size = 0.2, random_state = 123)"
      ],
      "execution_count": 71,
      "outputs": []
    },
    {
      "cell_type": "code",
      "metadata": {
        "colab": {
          "base_uri": "https://localhost:8080/"
        },
        "id": "8Xq8GlkmifH3",
        "outputId": "aa3a55f2-e730-4b67-d070-eda999de6d47"
      },
      "source": [
        "# Random Forest Classifier (Missing 10%)\n",
        "automlclassifier_r1=classifier.AutoSklearnClassifier(metric = autosklearn.metrics.f1,\n",
        "                                                   time_left_for_this_task=300,\n",
        "                                                   per_run_time_limit=60)\n",
        "automlclassifier_r1.fit(X_train_r1,y_train_r1)"
      ],
      "execution_count": 72,
      "outputs": [
        {
          "output_type": "execute_result",
          "data": {
            "text/plain": [
              "AutoSklearnClassifier(metric=f1, per_run_time_limit=60,\n",
              "                      time_left_for_this_task=300)"
            ]
          },
          "metadata": {
            "tags": []
          },
          "execution_count": 72
        }
      ]
    },
    {
      "cell_type": "code",
      "metadata": {
        "colab": {
          "base_uri": "https://localhost:8080/"
        },
        "id": "v90EZDpHifTv",
        "outputId": "13e75279-6099-43ea-cdbc-bce5a1b876ea"
      },
      "source": [
        "# Random Forest Classifier (Missing 20%)\n",
        "automlclassifier_r2=classifier.AutoSklearnClassifier(metric = autosklearn.metrics.f1,\n",
        "                                                   time_left_for_this_task=300,\n",
        "                                                   per_run_time_limit=60)\n",
        "automlclassifier_r2.fit(X_train_r2,y_train_r2)"
      ],
      "execution_count": 73,
      "outputs": [
        {
          "output_type": "execute_result",
          "data": {
            "text/plain": [
              "AutoSklearnClassifier(metric=f1, per_run_time_limit=60,\n",
              "                      time_left_for_this_task=300)"
            ]
          },
          "metadata": {
            "tags": []
          },
          "execution_count": 73
        }
      ]
    },
    {
      "cell_type": "code",
      "metadata": {
        "colab": {
          "base_uri": "https://localhost:8080/"
        },
        "id": "TqXTezwQifeB",
        "outputId": "b96a58c8-9f0c-41ba-a82e-58281aab0ef8"
      },
      "source": [
        "# Random Forest Classifier (Missing 30%)\n",
        "automlclassifier_r3=classifier.AutoSklearnClassifier(metric = autosklearn.metrics.f1,\n",
        "                                                   time_left_for_this_task=300,\n",
        "                                                   per_run_time_limit=60)\n",
        "automlclassifier_r3.fit(X_train_r3,y_train_r3)"
      ],
      "execution_count": 74,
      "outputs": [
        {
          "output_type": "execute_result",
          "data": {
            "text/plain": [
              "AutoSklearnClassifier(metric=f1, per_run_time_limit=60,\n",
              "                      time_left_for_this_task=300)"
            ]
          },
          "metadata": {
            "tags": []
          },
          "execution_count": 74
        }
      ]
    },
    {
      "cell_type": "code",
      "metadata": {
        "colab": {
          "base_uri": "https://localhost:8080/"
        },
        "id": "JiQmeS5IifnX",
        "outputId": "3d0715f4-9d22-4c94-9ce3-a02927c65973"
      },
      "source": [
        "# Random Forest Classifier (Missing 40%)\n",
        "automlclassifier_r4=classifier.AutoSklearnClassifier(metric = autosklearn.metrics.f1,\n",
        "                                                   time_left_for_this_task=300,\n",
        "                                                   per_run_time_limit=60)\n",
        "automlclassifier_r4.fit(X_train_r4,y_train_r4)"
      ],
      "execution_count": 75,
      "outputs": [
        {
          "output_type": "execute_result",
          "data": {
            "text/plain": [
              "AutoSklearnClassifier(metric=f1, per_run_time_limit=60,\n",
              "                      time_left_for_this_task=300)"
            ]
          },
          "metadata": {
            "tags": []
          },
          "execution_count": 75
        }
      ]
    },
    {
      "cell_type": "code",
      "metadata": {
        "colab": {
          "base_uri": "https://localhost:8080/"
        },
        "id": "OCHL4If-ifxI",
        "outputId": "9235890a-c5d2-4d26-a258-38445b630d67"
      },
      "source": [
        "# Random Forest Classifier (Missing 50%)\n",
        "automlclassifier_r5=classifier.AutoSklearnClassifier(metric = autosklearn.metrics.f1,\n",
        "                                                   time_left_for_this_task=300,\n",
        "                                                   per_run_time_limit=60)\n",
        "automlclassifier_r5.fit(X_train_r5,y_train_r5)"
      ],
      "execution_count": 76,
      "outputs": [
        {
          "output_type": "execute_result",
          "data": {
            "text/plain": [
              "AutoSklearnClassifier(metric=f1, per_run_time_limit=60,\n",
              "                      time_left_for_this_task=300)"
            ]
          },
          "metadata": {
            "tags": []
          },
          "execution_count": 76
        }
      ]
    },
    {
      "cell_type": "code",
      "metadata": {
        "colab": {
          "base_uri": "https://localhost:8080/"
        },
        "id": "PWWt_wiHjuX9",
        "outputId": "8e4465ee-2592-4e06-d50d-fc0f55d9f285"
      },
      "source": [
        "# Prediction and F1 (Random Forest Missing 0.1)\n",
        "y_pred_r1 = automlclassifier_r1.predict(X_test_r1)\n",
        "\n",
        "f1score_r1 = f1_score(y_test_r1, y_pred_r1)\n",
        "\n",
        "print(\"F1 Score:\", f1score_r1)"
      ],
      "execution_count": 77,
      "outputs": [
        {
          "output_type": "stream",
          "text": [
            "F1 Score: 0.2983870967741935\n"
          ],
          "name": "stdout"
        }
      ]
    },
    {
      "cell_type": "code",
      "metadata": {
        "colab": {
          "base_uri": "https://localhost:8080/"
        },
        "id": "31te01EnjufV",
        "outputId": "6c0598c8-6b3b-4c5b-811e-3ce77783c42d"
      },
      "source": [
        "# Prediction and F1 (Random Forest Missing 0.2)\n",
        "y_pred_r2 = automlclassifier_r2.predict(X_test_r2)\n",
        "\n",
        "f1score_r2 = f1_score(y_test_r2, y_pred_r2)\n",
        "\n",
        "print(\"F1 Score:\", f1score_r2)"
      ],
      "execution_count": 78,
      "outputs": [
        {
          "output_type": "stream",
          "text": [
            "F1 Score: 0.27692307692307694\n"
          ],
          "name": "stdout"
        }
      ]
    },
    {
      "cell_type": "code",
      "metadata": {
        "colab": {
          "base_uri": "https://localhost:8080/"
        },
        "id": "u_8PyXoajupc",
        "outputId": "8519009c-d020-4a5b-c83d-01e50ed505a6"
      },
      "source": [
        "# Prediction and F1 (Random Forest Missing 0.3)\n",
        "y_pred_r3 = automlclassifier_r3.predict(X_test_r3)\n",
        "\n",
        "f1score_r3 = f1_score(y_test_r3, y_pred_r3)\n",
        "\n",
        "print(\"F1 Score:\", f1score_r3)"
      ],
      "execution_count": 79,
      "outputs": [
        {
          "output_type": "stream",
          "text": [
            "F1 Score: 0.32369942196531787\n"
          ],
          "name": "stdout"
        }
      ]
    },
    {
      "cell_type": "code",
      "metadata": {
        "colab": {
          "base_uri": "https://localhost:8080/"
        },
        "id": "7h-KThGGju3x",
        "outputId": "caa8d83d-dc89-4643-bf3e-23ce3c44b402"
      },
      "source": [
        "# Prediction and F1 (Random Forest Missing 0.4)\n",
        "y_pred_r4 = automlclassifier_r4.predict(X_test_r4)\n",
        "\n",
        "f1score_r4 = f1_score(y_test_r4, y_pred_r4)\n",
        "\n",
        "print(\"F1 Score:\", f1score_r4)"
      ],
      "execution_count": 80,
      "outputs": [
        {
          "output_type": "stream",
          "text": [
            "F1 Score: 0.30498533724340177\n"
          ],
          "name": "stdout"
        }
      ]
    },
    {
      "cell_type": "code",
      "metadata": {
        "colab": {
          "base_uri": "https://localhost:8080/"
        },
        "id": "XLTD-0sQjvCE",
        "outputId": "2f268287-bd05-4707-f3ba-c3470c894fa6"
      },
      "source": [
        "# Prediction and F1 (Random Forest Missing 0.5)\n",
        "y_pred_r5 = automlclassifier_r5.predict(X_test_r5)\n",
        "\n",
        "f1score_r5 = f1_score(y_test_r5, y_pred_r5)\n",
        "\n",
        "print(\"F1 Score:\", f1score_r5)"
      ],
      "execution_count": 81,
      "outputs": [
        {
          "output_type": "stream",
          "text": [
            "F1 Score: 0.2679738562091503\n"
          ],
          "name": "stdout"
        }
      ]
    },
    {
      "cell_type": "markdown",
      "metadata": {
        "id": "G0hsnVz2XZcC"
      },
      "source": [
        "#Auto-sklearn Framinghame Imputed GAN"
      ]
    },
    {
      "cell_type": "code",
      "metadata": {
        "id": "f_qwsIpxXY53"
      },
      "source": [
        "# Load in Data for GAN Imputation\n",
        "with open('prediction_data_gan_missrate=0.1.pkl', 'rb') as f:\n",
        "    g1 = pickle.load(f)\n",
        "with open('prediction_data_gan_missrate=0.2.pkl', 'rb') as f:\n",
        "    g2 = pickle.load(f)\n",
        "with open('prediction_data_gan_missrate=0.3.pkl', 'rb') as f:\n",
        "    g3 = pickle.load(f)\n",
        "with open('prediction_data_gan_missrate=0.4.pkl', 'rb') as f:\n",
        "    g4 = pickle.load(f)\n",
        "with open('prediction_data_gan_missrate=0.5.pkl', 'rb') as f:\n",
        "    g5 = pickle.load(f)"
      ],
      "execution_count": 7,
      "outputs": []
    },
    {
      "cell_type": "code",
      "metadata": {
        "id": "jOZTEFGPb637"
      },
      "source": [
        "# Create X and y for Each GAN DF\n",
        "X_g1 = g1.iloc[:, :-1]\n",
        "y_g1 = g1.iloc[:, -1]\n",
        "\n",
        "X_g2 = g2.iloc[:, :-1]\n",
        "y_g2 = g2.iloc[:, -1]\n",
        "\n",
        "X_g3 = g3.iloc[:, :-1]\n",
        "y_g3 = g3.iloc[:, -1]\n",
        "\n",
        "X_g4 = g4.iloc[:, :-1]\n",
        "y_g4 = g4.iloc[:, -1]\n",
        "\n",
        "X_g5 = g5.iloc[:, :-1]\n",
        "y_g5 = g5.iloc[:, -1]"
      ],
      "execution_count": 9,
      "outputs": []
    },
    {
      "cell_type": "code",
      "metadata": {
        "id": "yIz0nM11dnPP"
      },
      "source": [
        "# Train Test Split for Each GAN DF\n",
        "X_train_g1, X_test_g1, y_train_g1, y_test_g1 = train_test_split(X_g1, y_g1, test_size = 0.2, random_state = 123)\n",
        "X_train_g2, X_test_g2, y_train_g2, y_test_g2 = train_test_split(X_g2, y_g2, test_size = 0.2, random_state = 123)\n",
        "X_train_g3, X_test_g3, y_train_g3, y_test_g3 = train_test_split(X_g3, y_g3, test_size = 0.2, random_state = 123)\n",
        "X_train_g4, X_test_g4, y_train_g4, y_test_g4 = train_test_split(X_g4, y_g4, test_size = 0.2, random_state = 123)\n",
        "X_train_g5, X_test_g5, y_train_g5, y_test_g5 = train_test_split(X_g5, y_g5, test_size = 0.2, random_state = 123)"
      ],
      "execution_count": 11,
      "outputs": []
    },
    {
      "cell_type": "code",
      "metadata": {
        "id": "JvvXPb6UZLRM"
      },
      "source": [
        "# Create X and y Train/Test Splits for GAN\n",
        "X_train_g1 = pd.DataFrame(g1['imputed_train_data']).iloc[:, 0:]\n",
        "X_test_g1 = pd.DataFrame(g1['imputed_test_data']).iloc[:, 0:]\n",
        "y_train_g1 = pd.DataFrame(g1['imputed_train_data']).iloc[:, 0]\n",
        "y_test_g1 = pd.DataFrame(g1['imputed_test_data']).iloc[:, 0]\n",
        "\n",
        "X_train_g2 = pd.DataFrame(g2['imputed_train_data']).iloc[:, 0:]\n",
        "X_test_g2 = pd.DataFrame(g2['imputed_test_data']).iloc[:, 0:]\n",
        "y_train_g2 = pd.DataFrame(g2['imputed_train_data']).iloc[:, 0]\n",
        "y_test_g2 = pd.DataFrame(g2['imputed_test_data']).iloc[:, 0]\n",
        "\n",
        "X_train_g3 = pd.DataFrame(g3['imputed_train_data']).iloc[:, 0:]\n",
        "X_test_g3 = pd.DataFrame(g3['imputed_test_data']).iloc[:, 0:]\n",
        "y_train_g3 = pd.DataFrame(g3['imputed_train_data']).iloc[:, 0]\n",
        "y_test_g3 = pd.DataFrame(g3['imputed_test_data']).iloc[:, 0]\n",
        "\n",
        "X_train_g4 = pd.DataFrame(g4['imputed_train_data']).iloc[:, 0:]\n",
        "X_test_g4 = pd.DataFrame(g4['imputed_test_data']).iloc[:, 0:]\n",
        "y_train_g4 = pd.DataFrame(g4['imputed_train_data']).iloc[:, 0]\n",
        "y_test_g4 = pd.DataFrame(g4['imputed_test_data']).iloc[:, 0]\n",
        "\n",
        "X_train_g5 = pd.DataFrame(g5['imputed_train_data']).iloc[:, 0:]\n",
        "X_test_g5 = pd.DataFrame(g5['imputed_test_data']).iloc[:, 0:]\n",
        "y_train_g5 = pd.DataFrame(g5['imputed_train_data']).iloc[:, 0]\n",
        "y_test_g5 = pd.DataFrame(g5['imputed_test_data']).iloc[:, 0]"
      ],
      "execution_count": 27,
      "outputs": []
    },
    {
      "cell_type": "code",
      "metadata": {
        "colab": {
          "base_uri": "https://localhost:8080/"
        },
        "id": "tXGLbJTSYumv",
        "outputId": "de05fad1-554b-4952-a10d-ea95830cc41c"
      },
      "source": [
        "# GAN Classifier (Missing 10%)\n",
        "automlclassifier_g1=classifier.AutoSklearnClassifier(metric = autosklearn.metrics.f1,\n",
        "                                                   time_left_for_this_task=300,\n",
        "                                                   per_run_time_limit=60)\n",
        "automlclassifier_g1.fit(X_train_g1,y_train_g1)"
      ],
      "execution_count": 12,
      "outputs": [
        {
          "output_type": "execute_result",
          "data": {
            "text/plain": [
              "AutoSklearnClassifier(metric=f1, per_run_time_limit=60,\n",
              "                      time_left_for_this_task=300)"
            ]
          },
          "metadata": {
            "tags": []
          },
          "execution_count": 12
        }
      ]
    },
    {
      "cell_type": "code",
      "metadata": {
        "colab": {
          "base_uri": "https://localhost:8080/"
        },
        "id": "8lzKZxXkbukX",
        "outputId": "7e9b1415-ee97-4c4c-f514-1b917b3698ca"
      },
      "source": [
        "# GAN Classifier (Missing 20%)\n",
        "automlclassifier_g2=classifier.AutoSklearnClassifier(metric = autosklearn.metrics.f1,\n",
        "                                                   time_left_for_this_task=300,\n",
        "                                                   per_run_time_limit=60)\n",
        "automlclassifier_g2.fit(X_train_g2,y_train_g2)"
      ],
      "execution_count": 17,
      "outputs": [
        {
          "output_type": "execute_result",
          "data": {
            "text/plain": [
              "AutoSklearnClassifier(metric=f1, per_run_time_limit=60,\n",
              "                      time_left_for_this_task=300)"
            ]
          },
          "metadata": {
            "tags": []
          },
          "execution_count": 17
        }
      ]
    },
    {
      "cell_type": "code",
      "metadata": {
        "colab": {
          "base_uri": "https://localhost:8080/"
        },
        "id": "zfgAEdFcbuvE",
        "outputId": "308573fb-095d-4c87-98c3-7f440e4c0c22"
      },
      "source": [
        "# GAN Classifier (Missing 30%)\n",
        "automlclassifier_g3=classifier.AutoSklearnClassifier(metric = autosklearn.metrics.f1,\n",
        "                                                   time_left_for_this_task=300,\n",
        "                                                   per_run_time_limit=60)\n",
        "automlclassifier_g3.fit(X_train_g3,y_train_g3)"
      ],
      "execution_count": 18,
      "outputs": [
        {
          "output_type": "execute_result",
          "data": {
            "text/plain": [
              "AutoSklearnClassifier(metric=f1, per_run_time_limit=60,\n",
              "                      time_left_for_this_task=300)"
            ]
          },
          "metadata": {
            "tags": []
          },
          "execution_count": 18
        }
      ]
    },
    {
      "cell_type": "code",
      "metadata": {
        "colab": {
          "base_uri": "https://localhost:8080/"
        },
        "id": "gJ1yr-gdbvJ6",
        "outputId": "b78ea8fd-fa4a-4d78-e5f7-82da977af153"
      },
      "source": [
        "# GAN Classifier (Missing 40%)\n",
        "automlclassifier_g4=classifier.AutoSklearnClassifier(metric = autosklearn.metrics.f1,\n",
        "                                                   time_left_for_this_task=300,\n",
        "                                                   per_run_time_limit=60)\n",
        "automlclassifier_g4.fit(X_train_g4,y_train_g4)"
      ],
      "execution_count": 19,
      "outputs": [
        {
          "output_type": "execute_result",
          "data": {
            "text/plain": [
              "AutoSklearnClassifier(metric=f1, per_run_time_limit=60,\n",
              "                      time_left_for_this_task=300)"
            ]
          },
          "metadata": {
            "tags": []
          },
          "execution_count": 19
        }
      ]
    },
    {
      "cell_type": "code",
      "metadata": {
        "colab": {
          "base_uri": "https://localhost:8080/"
        },
        "id": "epWHf4nqbvXo",
        "outputId": "a2f8e82b-9d92-40ea-eff3-11e68b7ce5c6"
      },
      "source": [
        "# GAN Classifier (Missing 50%)\n",
        "automlclassifier_g5=classifier.AutoSklearnClassifier(metric = autosklearn.metrics.f1,\n",
        "                                                   time_left_for_this_task=300,\n",
        "                                                   per_run_time_limit=60)\n",
        "automlclassifier_g5.fit(X_train_g5, y_train_g5)"
      ],
      "execution_count": 20,
      "outputs": [
        {
          "output_type": "execute_result",
          "data": {
            "text/plain": [
              "AutoSklearnClassifier(metric=f1, per_run_time_limit=60,\n",
              "                      time_left_for_this_task=300)"
            ]
          },
          "metadata": {
            "tags": []
          },
          "execution_count": 20
        }
      ]
    },
    {
      "cell_type": "code",
      "metadata": {
        "colab": {
          "base_uri": "https://localhost:8080/"
        },
        "id": "yLgIFRWQcJeF",
        "outputId": "8c33922a-b3cf-4e2f-cb2b-aeb516caa647"
      },
      "source": [
        "# Prediction and F1 (Random Forest Missing 0.1)\n",
        "y_pred_g1 = automlclassifier_g1.predict(X_test_g1)\n",
        "\n",
        "f1score_g1 = f1_score(y_test_g1, y_pred_g1)\n",
        "\n",
        "print(\"F1 Score:\", f1score_g1)"
      ],
      "execution_count": 16,
      "outputs": [
        {
          "output_type": "stream",
          "text": [
            "F1 Score: 0.3235294117647059\n"
          ],
          "name": "stdout"
        }
      ]
    },
    {
      "cell_type": "code",
      "metadata": {
        "colab": {
          "base_uri": "https://localhost:8080/"
        },
        "id": "yCwh0nadcJq4",
        "outputId": "d16b6b6b-3a90-4c39-edd0-53631d913320"
      },
      "source": [
        "# Prediction and F1 (Random Forest Missing 0.2)\n",
        "y_pred_g2 = automlclassifier_g2.predict(X_test_g2)\n",
        "\n",
        "f1score_g2 = f1_score(y_test_g2, y_pred_g2)\n",
        "\n",
        "print(\"F1 Score:\", f1score_g2)"
      ],
      "execution_count": 21,
      "outputs": [
        {
          "output_type": "stream",
          "text": [
            "F1 Score: 0.3208191126279864\n"
          ],
          "name": "stdout"
        }
      ]
    },
    {
      "cell_type": "code",
      "metadata": {
        "colab": {
          "base_uri": "https://localhost:8080/"
        },
        "id": "9W5UNXYPcJ09",
        "outputId": "c1e68493-8999-4c9c-e164-cc5bcf8afa00"
      },
      "source": [
        "# Prediction and F1 (Random Forest Missing 0.3)\n",
        "y_pred_g3 = automlclassifier_g3.predict(X_test_g3)\n",
        "\n",
        "f1score_g3 = f1_score(y_test_g3, y_pred_g3)\n",
        "\n",
        "print(\"F1 Score:\", f1score_g3)"
      ],
      "execution_count": 22,
      "outputs": [
        {
          "output_type": "stream",
          "text": [
            "F1 Score: 0.31358885017421606\n"
          ],
          "name": "stdout"
        }
      ]
    },
    {
      "cell_type": "code",
      "metadata": {
        "colab": {
          "base_uri": "https://localhost:8080/"
        },
        "id": "beBlAVrzcJ-h",
        "outputId": "6c4a7fbc-712c-4b95-a58d-7cf7fda8de26"
      },
      "source": [
        "# Prediction and F1 (Random Forest Missing 0.4)\n",
        "y_pred_g4 = automlclassifier_g4.predict(X_test_g4)\n",
        "\n",
        "f1score_g4 = f1_score(y_test_g4, y_pred_g4)\n",
        "\n",
        "print(\"F1 Score:\", f1score_g4)"
      ],
      "execution_count": 23,
      "outputs": [
        {
          "output_type": "stream",
          "text": [
            "F1 Score: 0.26537216828478966\n"
          ],
          "name": "stdout"
        }
      ]
    },
    {
      "cell_type": "code",
      "metadata": {
        "colab": {
          "base_uri": "https://localhost:8080/"
        },
        "id": "1gyriUD9cKJ8",
        "outputId": "f9efa8f1-e05c-4860-bc40-e938e95fde36"
      },
      "source": [
        "# Prediction and F1 (Random Forest Missing 0.5)\n",
        "y_pred_g5 = automlclassifier_g5.predict(X_test_g5)\n",
        "\n",
        "f1score_g5 = f1_score(y_test_g5, y_pred_g5)\n",
        "\n",
        "print(\"F1 Score:\", f1score_g5)"
      ],
      "execution_count": 24,
      "outputs": [
        {
          "output_type": "stream",
          "text": [
            "F1 Score: 0.2608695652173913\n"
          ],
          "name": "stdout"
        }
      ]
    }
  ]
}