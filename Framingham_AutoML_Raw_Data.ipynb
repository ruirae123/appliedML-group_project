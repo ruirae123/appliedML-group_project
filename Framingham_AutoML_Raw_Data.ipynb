{
  "nbformat": 4,
  "nbformat_minor": 0,
  "metadata": {
    "colab": {
      "name": "Framingham AutoML Raw Data",
      "provenance": [],
      "collapsed_sections": []
    },
    "environment": {
      "name": "common-cu101.m65",
      "type": "gcloud",
      "uri": "gcr.io/deeplearning-platform-release/base-cu101:m65"
    },
    "kernelspec": {
      "display_name": "Python 3",
      "language": "python",
      "name": "python3"
    },
    "language_info": {
      "codemirror_mode": {
        "name": "ipython",
        "version": 3
      },
      "file_extension": ".py",
      "mimetype": "text/x-python",
      "name": "python",
      "nbconvert_exporter": "python",
      "pygments_lexer": "ipython3",
      "version": "3.7.10"
    }
  },
  "cells": [
    {
      "cell_type": "markdown",
      "metadata": {
        "id": "vN7gIvwQQFWP"
      },
      "source": [
        "#AutoML\n",
        "https://mljar.com/blog/automl-software-list/\n",
        "\n",
        "https://www.automl.org/automl/\n",
        "\n",
        "**auto-sklearn** (scikit-learn, python package): tabular classification, regression\n",
        "\n",
        "**autoKeras** (TensorFlow, python package): image classification\n",
        "\n",
        "**FLAML** (python package): classification, regression https://github.com/microsoft/FLAML\n",
        "\n",
        "**H2O** (python or R package): classification, regression https://docs.h2o.ai/h2o/latest-stable/h2o-docs/automl.html\n",
        "\n",
        "**automl-gs,\n",
        "auto-weka,\n",
        "autoAugment,\n",
        "auto-Tuned,\n",
        "autostacker,\n",
        "aphaD3M (Drori),\n",
        "featureTools,\n",
        "gluonAutoML,\n",
        "GCP-Tables,\n",
        "ludwig,\n",
        "mljar-supervised,\n",
        "NNI,\n",
        "tpot,\n",
        "transmografAI....**"
      ]
    },
    {
      "cell_type": "markdown",
      "metadata": {
        "id": "4TmXsyci5MIN"
      },
      "source": [
        "# Auto-sklearn installation\n",
        "https://automl.github.io/auto-sklearn/master/installation.html#installation\n",
        "\n",
        "#### Remember to \"save a copy in drive\"!"
      ]
    },
    {
      "cell_type": "code",
      "metadata": {
        "colab": {
          "base_uri": "https://localhost:8080/"
        },
        "id": "4gXq8hTj7cgZ",
        "outputId": "a30264db-50af-4dfa-919a-e2d52e0f8da9"
      },
      "source": [
        "!apt-get install swig -y\n",
        "!pip install Cython numpy\n",
        "!pip install auto-sklearn\n",
        "!pip install dask distributed --upgrade\n",
        "\n",
        "#run, restart run time, run again"
      ],
      "execution_count": 1,
      "outputs": [
        {
          "output_type": "stream",
          "text": [
            "Reading package lists... Done\n",
            "Building dependency tree       \n",
            "Reading state information... Done\n",
            "swig is already the newest version (3.0.12-1).\n",
            "The following package was automatically installed and is no longer required:\n",
            "  libnvidia-common-460\n",
            "Use 'apt autoremove' to remove it.\n",
            "0 upgraded, 0 newly installed, 0 to remove and 34 not upgraded.\n",
            "Requirement already satisfied: Cython in /usr/local/lib/python3.7/dist-packages (0.29.22)\n",
            "Requirement already satisfied: numpy in /usr/local/lib/python3.7/dist-packages (1.19.5)\n",
            "Requirement already satisfied: auto-sklearn in /usr/local/lib/python3.7/dist-packages (0.12.6)\n",
            "Requirement already satisfied: liac-arff in /usr/local/lib/python3.7/dist-packages (from auto-sklearn) (2.5.0)\n",
            "Requirement already satisfied: pyrfr<0.9,>=0.8.1 in /usr/local/lib/python3.7/dist-packages (from auto-sklearn) (0.8.2)\n",
            "Requirement already satisfied: scikit-learn<0.25.0,>=0.24.0 in /usr/local/lib/python3.7/dist-packages (from auto-sklearn) (0.24.2)\n",
            "Requirement already satisfied: pandas>=1.0 in /usr/local/lib/python3.7/dist-packages (from auto-sklearn) (1.1.5)\n",
            "Requirement already satisfied: smac<0.14,>=0.13.1 in /usr/local/lib/python3.7/dist-packages (from auto-sklearn) (0.13.1)\n",
            "Requirement already satisfied: numpy>=1.9.0 in /usr/local/lib/python3.7/dist-packages (from auto-sklearn) (1.19.5)\n",
            "Requirement already satisfied: scipy>=0.14.1 in /usr/local/lib/python3.7/dist-packages (from auto-sklearn) (1.4.1)\n",
            "Requirement already satisfied: ConfigSpace<0.5,>=0.4.14 in /usr/local/lib/python3.7/dist-packages (from auto-sklearn) (0.4.18)\n",
            "Requirement already satisfied: pynisher>=0.6.3 in /usr/local/lib/python3.7/dist-packages (from auto-sklearn) (0.6.4)\n",
            "Requirement already satisfied: setuptools in /usr/local/lib/python3.7/dist-packages (from auto-sklearn) (56.1.0)\n",
            "Requirement already satisfied: pyyaml in /usr/local/lib/python3.7/dist-packages (from auto-sklearn) (3.13)\n",
            "Requirement already satisfied: dask in /usr/local/lib/python3.7/dist-packages (from auto-sklearn) (2021.4.1)\n",
            "Requirement already satisfied: joblib in /usr/local/lib/python3.7/dist-packages (from auto-sklearn) (1.0.1)\n",
            "Requirement already satisfied: distributed>=2.2.0 in /usr/local/lib/python3.7/dist-packages (from auto-sklearn) (2021.4.1)\n",
            "Requirement already satisfied: threadpoolctl>=2.0.0 in /usr/local/lib/python3.7/dist-packages (from scikit-learn<0.25.0,>=0.24.0->auto-sklearn) (2.1.0)\n",
            "Requirement already satisfied: python-dateutil>=2.7.3 in /usr/local/lib/python3.7/dist-packages (from pandas>=1.0->auto-sklearn) (2.8.1)\n",
            "Requirement already satisfied: pytz>=2017.2 in /usr/local/lib/python3.7/dist-packages (from pandas>=1.0->auto-sklearn) (2018.9)\n",
            "Requirement already satisfied: lazy-import in /usr/local/lib/python3.7/dist-packages (from smac<0.14,>=0.13.1->auto-sklearn) (0.2.2)\n",
            "Requirement already satisfied: psutil in /usr/local/lib/python3.7/dist-packages (from smac<0.14,>=0.13.1->auto-sklearn) (5.4.8)\n",
            "Requirement already satisfied: pyparsing in /usr/local/lib/python3.7/dist-packages (from ConfigSpace<0.5,>=0.4.14->auto-sklearn) (2.4.7)\n",
            "Requirement already satisfied: cython in /usr/local/lib/python3.7/dist-packages (from ConfigSpace<0.5,>=0.4.14->auto-sklearn) (0.29.22)\n",
            "Requirement already satisfied: partd>=0.3.10 in /usr/local/lib/python3.7/dist-packages (from dask->auto-sklearn) (1.2.0)\n",
            "Requirement already satisfied: toolz>=0.8.2 in /usr/local/lib/python3.7/dist-packages (from dask->auto-sklearn) (0.11.1)\n",
            "Requirement already satisfied: cloudpickle>=1.1.1 in /usr/local/lib/python3.7/dist-packages (from dask->auto-sklearn) (1.6.0)\n",
            "Requirement already satisfied: fsspec>=0.6.0 in /usr/local/lib/python3.7/dist-packages (from dask->auto-sklearn) (2021.4.0)\n",
            "Requirement already satisfied: tblib>=1.6.0 in /usr/local/lib/python3.7/dist-packages (from distributed>=2.2.0->auto-sklearn) (1.7.0)\n",
            "Requirement already satisfied: click>=6.6 in /usr/local/lib/python3.7/dist-packages (from distributed>=2.2.0->auto-sklearn) (7.1.2)\n",
            "Requirement already satisfied: zict>=0.1.3 in /usr/local/lib/python3.7/dist-packages (from distributed>=2.2.0->auto-sklearn) (2.0.0)\n",
            "Requirement already satisfied: tornado>=5; python_version < \"3.8\" in /usr/local/lib/python3.7/dist-packages (from distributed>=2.2.0->auto-sklearn) (5.1.1)\n",
            "Requirement already satisfied: sortedcontainers!=2.0.0,!=2.0.1 in /usr/local/lib/python3.7/dist-packages (from distributed>=2.2.0->auto-sklearn) (2.3.0)\n",
            "Requirement already satisfied: msgpack>=0.6.0 in /usr/local/lib/python3.7/dist-packages (from distributed>=2.2.0->auto-sklearn) (1.0.2)\n",
            "Requirement already satisfied: six>=1.5 in /usr/local/lib/python3.7/dist-packages (from python-dateutil>=2.7.3->pandas>=1.0->auto-sklearn) (1.15.0)\n",
            "Requirement already satisfied: locket in /usr/local/lib/python3.7/dist-packages (from partd>=0.3.10->dask->auto-sklearn) (0.2.1)\n",
            "Requirement already satisfied: heapdict in /usr/local/lib/python3.7/dist-packages (from zict>=0.1.3->distributed>=2.2.0->auto-sklearn) (1.0.1)\n",
            "Requirement already up-to-date: dask in /usr/local/lib/python3.7/dist-packages (2021.4.1)\n",
            "Requirement already up-to-date: distributed in /usr/local/lib/python3.7/dist-packages (2021.4.1)\n",
            "Requirement already satisfied, skipping upgrade: pyyaml in /usr/local/lib/python3.7/dist-packages (from dask) (3.13)\n",
            "Requirement already satisfied, skipping upgrade: fsspec>=0.6.0 in /usr/local/lib/python3.7/dist-packages (from dask) (2021.4.0)\n",
            "Requirement already satisfied, skipping upgrade: cloudpickle>=1.1.1 in /usr/local/lib/python3.7/dist-packages (from dask) (1.6.0)\n",
            "Requirement already satisfied, skipping upgrade: toolz>=0.8.2 in /usr/local/lib/python3.7/dist-packages (from dask) (0.11.1)\n",
            "Requirement already satisfied, skipping upgrade: partd>=0.3.10 in /usr/local/lib/python3.7/dist-packages (from dask) (1.2.0)\n",
            "Requirement already satisfied, skipping upgrade: tornado>=5; python_version < \"3.8\" in /usr/local/lib/python3.7/dist-packages (from distributed) (5.1.1)\n",
            "Requirement already satisfied, skipping upgrade: msgpack>=0.6.0 in /usr/local/lib/python3.7/dist-packages (from distributed) (1.0.2)\n",
            "Requirement already satisfied, skipping upgrade: psutil>=5.0 in /usr/local/lib/python3.7/dist-packages (from distributed) (5.4.8)\n",
            "Requirement already satisfied, skipping upgrade: zict>=0.1.3 in /usr/local/lib/python3.7/dist-packages (from distributed) (2.0.0)\n",
            "Requirement already satisfied, skipping upgrade: click>=6.6 in /usr/local/lib/python3.7/dist-packages (from distributed) (7.1.2)\n",
            "Requirement already satisfied, skipping upgrade: setuptools in /usr/local/lib/python3.7/dist-packages (from distributed) (56.1.0)\n",
            "Requirement already satisfied, skipping upgrade: tblib>=1.6.0 in /usr/local/lib/python3.7/dist-packages (from distributed) (1.7.0)\n",
            "Requirement already satisfied, skipping upgrade: sortedcontainers!=2.0.0,!=2.0.1 in /usr/local/lib/python3.7/dist-packages (from distributed) (2.3.0)\n",
            "Requirement already satisfied, skipping upgrade: locket in /usr/local/lib/python3.7/dist-packages (from partd>=0.3.10->dask) (0.2.1)\n",
            "Requirement already satisfied, skipping upgrade: heapdict in /usr/local/lib/python3.7/dist-packages (from zict>=0.1.3->distributed) (1.0.1)\n"
          ],
          "name": "stdout"
        }
      ]
    },
    {
      "cell_type": "code",
      "metadata": {
        "colab": {
          "base_uri": "https://localhost:8080/"
        },
        "id": "ODDitPJw5p1u",
        "outputId": "eafecd3e-7149-4b30-bf91-54cb7ad0a94c"
      },
      "source": [
        "!pip install --upgrade scikit-learn\n",
        "!pip show scikit-learn\n",
        "import numpy as np\n",
        "import pandas as pd\n",
        "import sklearn\n",
        "import autosklearn.metrics\n",
        "import autosklearn.classification as classifier #classifier\n",
        "from sklearn.model_selection import train_test_split #load\n",
        "from sklearn.metrics import accuracy_score #prediction"
      ],
      "execution_count": 10,
      "outputs": [
        {
          "output_type": "stream",
          "text": [
            "Requirement already up-to-date: scikit-learn in /usr/local/lib/python3.7/dist-packages (0.24.2)\n",
            "Requirement already satisfied, skipping upgrade: scipy>=0.19.1 in /usr/local/lib/python3.7/dist-packages (from scikit-learn) (1.4.1)\n",
            "Requirement already satisfied, skipping upgrade: joblib>=0.11 in /usr/local/lib/python3.7/dist-packages (from scikit-learn) (1.0.1)\n",
            "Requirement already satisfied, skipping upgrade: threadpoolctl>=2.0.0 in /usr/local/lib/python3.7/dist-packages (from scikit-learn) (2.1.0)\n",
            "Requirement already satisfied, skipping upgrade: numpy>=1.13.3 in /usr/local/lib/python3.7/dist-packages (from scikit-learn) (1.19.5)\n",
            "Name: scikit-learn\n",
            "Version: 0.24.2\n",
            "Summary: A set of python modules for machine learning and data mining\n",
            "Home-page: http://scikit-learn.org\n",
            "Author: None\n",
            "Author-email: None\n",
            "License: new BSD\n",
            "Location: /usr/local/lib/python3.7/dist-packages\n",
            "Requires: threadpoolctl, numpy, joblib, scipy\n",
            "Required-by: yellowbrick, textgenrnn, smac, sklearn, sklearn-pandas, mlxtend, lightgbm, librosa, imbalanced-learn, fancyimpute, auto-sklearn\n"
          ],
          "name": "stdout"
        }
      ]
    },
    {
      "cell_type": "markdown",
      "metadata": {
        "id": "wp5N-i8YnhaV"
      },
      "source": [
        "#Auto-sklearn Framingham (Full)"
      ]
    },
    {
      "cell_type": "code",
      "metadata": {
        "colab": {
          "base_uri": "https://localhost:8080/"
        },
        "id": "svv5wzgTngmm",
        "outputId": "630752c0-185f-4f02-d792-c55631efe51b"
      },
      "source": [
        "# Load in Data\n",
        "df = pd.read_csv('framingham.csv')\n",
        "\n",
        "# Remove all rows with missing values\n",
        "df = df.dropna()"
      ],
      "execution_count": 3,
      "outputs": [
        {
          "output_type": "stream",
          "text": [
            "INFO:numexpr.utils:NumExpr defaulting to 2 threads.\n"
          ],
          "name": "stderr"
        }
      ]
    },
    {
      "cell_type": "code",
      "metadata": {
        "id": "cXRSs-gVnx8Q"
      },
      "source": [
        "# Categorical Variables\n",
        "categorical_names = [\n",
        "                     'male', 'education', 'currentSmoker',\n",
        "                     'cigsPerDay', 'BPMeds',\n",
        "                     'prevalentStroke', 'prevalentHyp', 'diabetes',\n",
        "]\n",
        "\n",
        "# Numeric Variables\n",
        "numeric_names = [\n",
        "                 'age', 'cigsPerDay', 'totChol', 'sysBP', 'diaBP', 'BMI',\n",
        "                 'heartRate', 'glucose'\n",
        "\n",
        "]"
      ],
      "execution_count": 4,
      "outputs": []
    },
    {
      "cell_type": "code",
      "metadata": {
        "id": "KMAjK9Na2Tl_"
      },
      "source": [
        "# Create Train/Test Xs and ys\n",
        "X = df.iloc[:, :-1]\n",
        "y = df.iloc[:, -1]\n",
        "\n",
        "from sklearn.model_selection import train_test_split\n",
        "X_train, X_test, y_train, y_test = train_test_split(X, y, test_size = 0.2, random_state = 0)"
      ],
      "execution_count": 5,
      "outputs": []
    },
    {
      "cell_type": "code",
      "metadata": {
        "id": "V-4chaZlriW_"
      },
      "source": [
        "# Masking Data Function\n",
        "def mask_data(X, miss_rate, random_seed):\n",
        "  np.random.seed(random_seed)\n",
        "  mask_test = np.random.uniform(size=X.shape) < miss_rate\n",
        "  Xhat = X.copy()\n",
        "  Xhat[mask_test] = np.nan\n",
        "\n",
        "  return Xhat"
      ],
      "execution_count": 6,
      "outputs": []
    },
    {
      "cell_type": "code",
      "metadata": {
        "id": "RdSdb7ZKsx3C"
      },
      "source": [
        "# Create Missing Datasets Train (ALL PREDICTOR VARIABLES)\n",
        "X_train1 = mask_data(X_train, miss_rate=0.1, random_seed=123)\n",
        "X_train2 = mask_data(X_train, miss_rate=0.2, random_seed=123)\n",
        "X_train3 = mask_data(X_train, miss_rate=0.3, random_seed=123)\n",
        "X_train4 = mask_data(X_train, miss_rate=0.4, random_seed=123)\n",
        "X_train5 = mask_data(X_train, miss_rate=0.5, random_seed=123)\n",
        "\n",
        "X_test1 = mask_data(X_test, miss_rate=0.1, random_seed=123)\n",
        "X_test2 = mask_data(X_test, miss_rate=0.2, random_seed=123)\n",
        "X_test3 = mask_data(X_test, miss_rate=0.3, random_seed=123)\n",
        "X_test4 = mask_data(X_test, miss_rate=0.4, random_seed=123)\n",
        "X_test5 = mask_data(X_test, miss_rate=0.5, random_seed=123)"
      ],
      "execution_count": 7,
      "outputs": []
    },
    {
      "cell_type": "code",
      "metadata": {
        "colab": {
          "base_uri": "https://localhost:8080/"
        },
        "id": "oiBrfj1DwPJJ",
        "outputId": "4fbd6edb-b1f9-4c24-e478-3792617598a8"
      },
      "source": [
        "# Classifier (Missing 10%)\n",
        "automlclassifier1=classifier.AutoSklearnClassifier(metric = autosklearn.metrics.f1,\n",
        "                                                   time_left_for_this_task=300,\n",
        "                                                   per_run_time_limit=60)\n",
        "automlclassifier1.fit(X_train1,y_train)"
      ],
      "execution_count": 12,
      "outputs": [
        {
          "output_type": "execute_result",
          "data": {
            "text/plain": [
              "AutoSklearnClassifier(metric=f1, per_run_time_limit=60,\n",
              "                      time_left_for_this_task=300)"
            ]
          },
          "metadata": {
            "tags": []
          },
          "execution_count": 12
        }
      ]
    },
    {
      "cell_type": "code",
      "metadata": {
        "colab": {
          "base_uri": "https://localhost:8080/"
        },
        "id": "RrT2XSpj-IJg",
        "outputId": "7b5d1376-01d3-4473-cb02-f7cadffb469a"
      },
      "source": [
        "# Classifier (Missing 20%)\n",
        "automlclassifier2=classifier.AutoSklearnClassifier(metric = autosklearn.metrics.f1,\n",
        "                                                   time_left_for_this_task=300,\n",
        "                                                   per_run_time_limit=60)\n",
        "automlclassifier2.fit(X_train2,y_train)"
      ],
      "execution_count": 13,
      "outputs": [
        {
          "output_type": "execute_result",
          "data": {
            "text/plain": [
              "AutoSklearnClassifier(metric=f1, per_run_time_limit=60,\n",
              "                      time_left_for_this_task=300)"
            ]
          },
          "metadata": {
            "tags": []
          },
          "execution_count": 13
        }
      ]
    },
    {
      "cell_type": "code",
      "metadata": {
        "colab": {
          "base_uri": "https://localhost:8080/"
        },
        "id": "zLgvoZKI-Tix",
        "outputId": "b654635f-dca1-40e7-9310-4c3ef917b4bc"
      },
      "source": [
        "# Classifier (Missing 30%)\n",
        "automlclassifier3=classifier.AutoSklearnClassifier(metric = autosklearn.metrics.f1,\n",
        "                                                   time_left_for_this_task=300,\n",
        "                                                   per_run_time_limit=60)\n",
        "automlclassifier3.fit(X_train3,y_train)"
      ],
      "execution_count": 14,
      "outputs": [
        {
          "output_type": "execute_result",
          "data": {
            "text/plain": [
              "AutoSklearnClassifier(metric=f1, per_run_time_limit=60,\n",
              "                      time_left_for_this_task=300)"
            ]
          },
          "metadata": {
            "tags": []
          },
          "execution_count": 14
        }
      ]
    },
    {
      "cell_type": "code",
      "metadata": {
        "colab": {
          "base_uri": "https://localhost:8080/"
        },
        "id": "ZgqA-ipABGYz",
        "outputId": "e58341c3-b3d6-47e8-d8bd-afad29f72a1c"
      },
      "source": [
        "# Classifier (Missing 40%)\n",
        "automlclassifier4=classifier.AutoSklearnClassifier(metric = autosklearn.metrics.f1,\n",
        "                                                   time_left_for_this_task=300,\n",
        "                                                   per_run_time_limit=60)\n",
        "automlclassifier4.fit(X_train4,y_train)"
      ],
      "execution_count": 15,
      "outputs": [
        {
          "output_type": "execute_result",
          "data": {
            "text/plain": [
              "AutoSklearnClassifier(metric=f1, per_run_time_limit=60,\n",
              "                      time_left_for_this_task=300)"
            ]
          },
          "metadata": {
            "tags": []
          },
          "execution_count": 15
        }
      ]
    },
    {
      "cell_type": "code",
      "metadata": {
        "colab": {
          "base_uri": "https://localhost:8080/"
        },
        "id": "_GvTl-fbBIhK",
        "outputId": "e2a0563b-271d-48c6-a712-2e3732f4565a"
      },
      "source": [
        "# Classifier (Missing 50%)\n",
        "automlclassifier5=classifier.AutoSklearnClassifier(metric = autosklearn.metrics.f1,\n",
        "                                                   time_left_for_this_task=300,\n",
        "                                                   per_run_time_limit=60)\n",
        "automlclassifier5.fit(X_train5,y_train)"
      ],
      "execution_count": 16,
      "outputs": [
        {
          "output_type": "execute_result",
          "data": {
            "text/plain": [
              "AutoSklearnClassifier(metric=f1, per_run_time_limit=60,\n",
              "                      time_left_for_this_task=300)"
            ]
          },
          "metadata": {
            "tags": []
          },
          "execution_count": 16
        }
      ]
    },
    {
      "cell_type": "code",
      "metadata": {
        "id": "xuoKaIP88Bgg"
      },
      "source": [
        "from sklearn.metrics import roc_auc_score\n",
        "from sklearn.metrics import mean_squared_error\n",
        "from sklearn.metrics import f1_score"
      ],
      "execution_count": 32,
      "outputs": []
    },
    {
      "cell_type": "code",
      "metadata": {
        "colab": {
          "base_uri": "https://localhost:8080/"
        },
        "id": "x9ucr3Pd6aM6",
        "outputId": "da5c384a-9f86-45d4-e749-b6ac5165daca"
      },
      "source": [
        "# Prediction and Scores (Train/Test 1)\n",
        "y_pred1 = automlclassifier1.predict(X_test1)\n",
        "acc1 = accuracy_score(y_test, y_pred1)\n",
        "auc1 = roc_auc_score(y_test, y_pred1)\n",
        "mse1 = mean_squared_error(y_test, y_pred1) \n",
        "f1score1 = f1_score(y_test, y_pred1)\n",
        "\n",
        "print(\"Accuracy score:\", acc1)\n",
        "print(\"AUC score: \", auc1)\n",
        "print(\"MSE: \", mse1)\n",
        "print(\"F1 Score:\", f1score1)"
      ],
      "execution_count": 33,
      "outputs": [
        {
          "output_type": "stream",
          "text": [
            "Accuracy score: 0.7950819672131147\n",
            "AUC score:  0.653009732067764\n",
            "MSE:  0.20491803278688525\n",
            "F1 Score: 0.4186046511627907\n"
          ],
          "name": "stdout"
        }
      ]
    },
    {
      "cell_type": "code",
      "metadata": {
        "colab": {
          "base_uri": "https://localhost:8080/"
        },
        "id": "ZyulMjTl_vhx",
        "outputId": "e421bbe9-c2c0-4e50-b7f6-53dd5570ecb5"
      },
      "source": [
        "# Prediction and Scores (Train/Test 2)\n",
        "y_pred2 = automlclassifier2.predict(X_test2)\n",
        "acc2 = accuracy_score(y_test, y_pred2)\n",
        "auc2 = roc_auc_score(y_test, y_pred2)\n",
        "mse2 = mean_squared_error(y_test, y_pred2) \n",
        "f1score2 = f1_score(y_test, y_pred2)\n",
        "\n",
        "print(\"Accuracy score:\", acc2)\n",
        "print(\"AUC score: \", auc2)\n",
        "print(\"MSE: \", mse2)\n",
        "print(\"F1 Score:\", f1score2)"
      ],
      "execution_count": 35,
      "outputs": [
        {
          "output_type": "stream",
          "text": [
            "Accuracy score: 0.7759562841530054\n",
            "AUC score:  0.6609796147222556\n",
            "MSE:  0.22404371584699453\n",
            "F1 Score: 0.42253521126760557\n"
          ],
          "name": "stdout"
        }
      ]
    },
    {
      "cell_type": "code",
      "metadata": {
        "colab": {
          "base_uri": "https://localhost:8080/"
        },
        "id": "VX9C2i2YABPT",
        "outputId": "92a31e59-e02b-4ea1-f702-7780dee91387"
      },
      "source": [
        "# Prediction and Scores (Train/Test 3)\n",
        "y_pred3 = automlclassifier2.predict(X_test3)\n",
        "acc3 = accuracy_score(y_test, y_pred3)\n",
        "auc3 = roc_auc_score(y_test, y_pred3)\n",
        "mse3 = mean_squared_error(y_test, y_pred3) \n",
        "f1score3 = f1_score(y_test, y_pred3)\n",
        "\n",
        "print(\"Accuracy score:\", acc3)\n",
        "print(\"AUC score: \", auc3)\n",
        "print(\"MSE: \", mse3)\n",
        "print(\"F1 Score:\", f1score3)"
      ],
      "execution_count": 36,
      "outputs": [
        {
          "output_type": "stream",
          "text": [
            "Accuracy score: 0.7827868852459017\n",
            "AUC score:  0.632644479154151\n",
            "MSE:  0.21721311475409835\n",
            "F1 Score: 0.3861003861003861\n"
          ],
          "name": "stdout"
        }
      ]
    },
    {
      "cell_type": "code",
      "metadata": {
        "colab": {
          "base_uri": "https://localhost:8080/"
        },
        "id": "2I922ztlBax0",
        "outputId": "7b81af10-300d-47b1-d917-895d60da50a8"
      },
      "source": [
        "# Prediction and Scores (Train/Test 4)\n",
        "y_pred4 = automlclassifier2.predict(X_test4)\n",
        "acc4 = accuracy_score(y_test, y_pred4)\n",
        "auc4 = roc_auc_score(y_test, y_pred4)\n",
        "mse4 = mean_squared_error(y_test, y_pred4) \n",
        "f1score4 = f1_score(y_test, y_pred4)\n",
        "\n",
        "print(\"Accuracy score:\", acc4)\n",
        "print(\"AUC score: \", auc4)\n",
        "print(\"MSE: \", mse4)\n",
        "print(\"F1 Score:\", f1score4)"
      ],
      "execution_count": 37,
      "outputs": [
        {
          "output_type": "stream",
          "text": [
            "Accuracy score: 0.7868852459016393\n",
            "AUC score:  0.6059113300492611\n",
            "MSE:  0.21311475409836064\n",
            "F1 Score: 0.3445378151260504\n"
          ],
          "name": "stdout"
        }
      ]
    },
    {
      "cell_type": "code",
      "metadata": {
        "colab": {
          "base_uri": "https://localhost:8080/"
        },
        "id": "BgdAoea5Bgcq",
        "outputId": "8a58e9aa-11b8-4eb2-eced-53b2e71b2f20"
      },
      "source": [
        "# Prediction and Scores (Train/Test 5)\n",
        "y_pred5 = automlclassifier2.predict(X_test5)\n",
        "acc5 = accuracy_score(y_test, y_pred5)\n",
        "auc5 = roc_auc_score(y_test, y_pred5)\n",
        "mse5 = mean_squared_error(y_test, y_pred5) \n",
        "f1score5 = f1_score(y_test, y_pred5)\n",
        "\n",
        "print(\"Accuracy score:\", acc5)\n",
        "print(\"AUC score: \", auc5)\n",
        "print(\"MSE: \", mse5)\n",
        "print(\"F1 Score:\", f1score5)"
      ],
      "execution_count": 38,
      "outputs": [
        {
          "output_type": "stream",
          "text": [
            "Accuracy score: 0.7950819672131147\n",
            "AUC score:  0.601105370659618\n",
            "MSE:  0.20491803278688525\n",
            "F1 Score: 0.336283185840708\n"
          ],
          "name": "stdout"
        }
      ]
    },
    {
      "cell_type": "code",
      "metadata": {
        "id": "lVatJtX984Mb"
      },
      "source": [
        "# Print Final Ensemble (Train/Test 1)\n",
        "print(automlclassifier3.show_models())"
      ],
      "execution_count": null,
      "outputs": []
    },
    {
      "cell_type": "markdown",
      "metadata": {
        "id": "toUMn-ypgD9k"
      },
      "source": [
        "#Auto-sklearn Framingham (Categorical)"
      ]
    },
    {
      "cell_type": "code",
      "metadata": {
        "id": "HT033LimD6W5"
      },
      "source": [
        "# Create Missing Datasets Train (CATEGORICAL VARIABLES)\n",
        "X_train_miss_cat = X_train[numeric_names]\n",
        "X_train_cat = X_train[categorical_names]\n",
        "\n",
        "X_train_cat1 = mask_data(X_train_cat, miss_rate=0.1, random_seed=123)\n",
        "X_train_cat2 = mask_data(X_train_cat, miss_rate=0.2, random_seed=123)\n",
        "X_train_cat3 = mask_data(X_train_cat, miss_rate=0.3, random_seed=123)\n",
        "X_train_cat4 = mask_data(X_train_cat, miss_rate=0.4, random_seed=123)\n",
        "X_train_cat5 = mask_data(X_train_cat, miss_rate=0.5, random_seed=123)\n",
        "\n",
        "X_train_cat1 = pd.concat([X_train_miss_cat, X_train_cat1], axis=1, ignore_index=False)\n",
        "X_train_cat2 = pd.concat([X_train_miss_cat, X_train_cat2], axis=1, ignore_index=False)\n",
        "X_train_cat3 = pd.concat([X_train_miss_cat, X_train_cat3], axis=1, ignore_index=False)\n",
        "X_train_cat4 = pd.concat([X_train_miss_cat, X_train_cat4], axis=1, ignore_index=False)\n",
        "X_train_cat5 = pd.concat([X_train_miss_cat, X_train_cat5], axis=1, ignore_index=False)"
      ],
      "execution_count": 17,
      "outputs": []
    },
    {
      "cell_type": "code",
      "metadata": {
        "id": "OiVkOzsVdNKk"
      },
      "source": [
        "# Create Missing Datasets Test (CATEGORICAL)\n",
        "X_test_miss_cat = X_test[numeric_names]\n",
        "X_test_cat = X_test[categorical_names]\n",
        "\n",
        "X_test_cat1 = mask_data(X_test_cat, miss_rate=0.1, random_seed=123)\n",
        "X_test_cat2 = mask_data(X_test_cat, miss_rate=0.2, random_seed=123)\n",
        "X_test_cat3 = mask_data(X_test_cat, miss_rate=0.3, random_seed=123)\n",
        "X_test_cat4 = mask_data(X_test_cat, miss_rate=0.4, random_seed=123)\n",
        "X_test_cat5 = mask_data(X_test_cat, miss_rate=0.5, random_seed=123)\n",
        "\n",
        "X_test_cat1 = pd.concat([X_test_miss_cat, X_test_cat1], axis=1, ignore_index=False)\n",
        "X_test_cat2 = pd.concat([X_test_miss_cat, X_test_cat2], axis=1, ignore_index=False)\n",
        "X_test_cat3 = pd.concat([X_test_miss_cat, X_test_cat3], axis=1, ignore_index=False)\n",
        "X_test_cat4 = pd.concat([X_test_miss_cat, X_test_cat4], axis=1, ignore_index=False)\n",
        "X_test_cat5 = pd.concat([X_test_miss_cat, X_test_cat5], axis=1, ignore_index=False)"
      ],
      "execution_count": 18,
      "outputs": []
    },
    {
      "cell_type": "code",
      "metadata": {
        "colab": {
          "base_uri": "https://localhost:8080/"
        },
        "id": "Xra-ZVvCBefH",
        "outputId": "1a6ef222-fc0b-46e2-b8a1-ffc8dd23f892"
      },
      "source": [
        "# Classifier (Missing 10%)\n",
        "automlclassifier_c1=classifier.AutoSklearnClassifier(metric = autosklearn.metrics.f1,\n",
        "                                                     time_left_for_this_task=300,\n",
        "                                                     per_run_time_limit=60)\n",
        "automlclassifier_c1.fit(X_train_cat1.values,y_train)"
      ],
      "execution_count": 19,
      "outputs": [
        {
          "output_type": "execute_result",
          "data": {
            "text/plain": [
              "AutoSklearnClassifier(metric=f1, per_run_time_limit=60,\n",
              "                      time_left_for_this_task=300)"
            ]
          },
          "metadata": {
            "tags": []
          },
          "execution_count": 19
        }
      ]
    },
    {
      "cell_type": "code",
      "metadata": {
        "colab": {
          "base_uri": "https://localhost:8080/"
        },
        "id": "d9ESwUfIBm67",
        "outputId": "5325092f-55e4-4895-d15a-eaff671d766e"
      },
      "source": [
        "# Classifier (Missing 20%)\n",
        "automlclassifier_c2=classifier.AutoSklearnClassifier(metric = autosklearn.metrics.f1,\n",
        "                                                     time_left_for_this_task=300,\n",
        "                                                     per_run_time_limit=60)\n",
        "automlclassifier_c2.fit(X_train_cat2.values,y_train)"
      ],
      "execution_count": 20,
      "outputs": [
        {
          "output_type": "execute_result",
          "data": {
            "text/plain": [
              "AutoSklearnClassifier(metric=f1, per_run_time_limit=60,\n",
              "                      time_left_for_this_task=300)"
            ]
          },
          "metadata": {
            "tags": []
          },
          "execution_count": 20
        }
      ]
    },
    {
      "cell_type": "code",
      "metadata": {
        "colab": {
          "base_uri": "https://localhost:8080/"
        },
        "id": "iu8Xu41mCrqm",
        "outputId": "5a2f2c39-0853-4e71-f55a-8e3d637016b1"
      },
      "source": [
        "# Classifier (Missing 30%)\n",
        "automlclassifier_c3=classifier.AutoSklearnClassifier(metric = autosklearn.metrics.f1,\n",
        "                                                     time_left_for_this_task=300,\n",
        "                                                     per_run_time_limit=60)\n",
        "automlclassifier_c3.fit(X_train_cat3.values,y_train)"
      ],
      "execution_count": 21,
      "outputs": [
        {
          "output_type": "execute_result",
          "data": {
            "text/plain": [
              "AutoSklearnClassifier(metric=f1, per_run_time_limit=60,\n",
              "                      time_left_for_this_task=300)"
            ]
          },
          "metadata": {
            "tags": []
          },
          "execution_count": 21
        }
      ]
    },
    {
      "cell_type": "code",
      "metadata": {
        "colab": {
          "base_uri": "https://localhost:8080/"
        },
        "id": "cqOEB8z0CuTV",
        "outputId": "e27a08a3-1565-4b1a-ce21-b4d73339e72e"
      },
      "source": [
        "# Classifier (Missing 40%)\n",
        "automlclassifier_c4=classifier.AutoSklearnClassifier(metric = autosklearn.metrics.f1,\n",
        "                                                     time_left_for_this_task=300,\n",
        "                                                     per_run_time_limit=60)\n",
        "automlclassifier_c4.fit(X_train_cat4.values,y_train)"
      ],
      "execution_count": 22,
      "outputs": [
        {
          "output_type": "execute_result",
          "data": {
            "text/plain": [
              "AutoSklearnClassifier(metric=f1, per_run_time_limit=60,\n",
              "                      time_left_for_this_task=300)"
            ]
          },
          "metadata": {
            "tags": []
          },
          "execution_count": 22
        }
      ]
    },
    {
      "cell_type": "code",
      "metadata": {
        "colab": {
          "base_uri": "https://localhost:8080/"
        },
        "id": "XTDmDu3YCwys",
        "outputId": "d4e1f692-0220-4a01-8083-2107c9055022"
      },
      "source": [
        "# Classifier (Missing 50%)\n",
        "automlclassifier_c5=classifier.AutoSklearnClassifier(metric = autosklearn.metrics.f1,\n",
        "                                                     time_left_for_this_task=300,\n",
        "                                                     per_run_time_limit=60)\n",
        "automlclassifier_c5.fit(X_train_cat5.values,y_train)"
      ],
      "execution_count": 23,
      "outputs": [
        {
          "output_type": "execute_result",
          "data": {
            "text/plain": [
              "AutoSklearnClassifier(metric=f1, per_run_time_limit=60,\n",
              "                      time_left_for_this_task=300)"
            ]
          },
          "metadata": {
            "tags": []
          },
          "execution_count": 23
        }
      ]
    },
    {
      "cell_type": "code",
      "metadata": {
        "colab": {
          "base_uri": "https://localhost:8080/"
        },
        "id": "q5MHDvkiDSj-",
        "outputId": "22879ae0-d07b-46b3-d797-f4b6cf07d1ce"
      },
      "source": [
        "# Prediction and Scores (Train/Test 1)\n",
        "y_pred_c1 = automlclassifier_c1.predict(X_test_cat1.values)\n",
        "acc_c1 = accuracy_score(y_test, y_pred_c1)\n",
        "auc_c1 = roc_auc_score(y_test, y_pred_c1)\n",
        "mse_c1 = mean_squared_error(y_test, y_pred_c1) \n",
        "f1score_c1 = f1_score(y_test, y_pred_c1)\n",
        "\n",
        "print(\"Accuracy score:\", acc_c1)\n",
        "print(\"AUC score:\", auc_c1)\n",
        "print(\"MSE: \", mse_c1)\n",
        "print(\"F1 Score:\", f1score_c1)"
      ],
      "execution_count": 39,
      "outputs": [
        {
          "output_type": "stream",
          "text": [
            "Accuracy score: 0.76775956284153\n",
            "AUC score: 0.6852497096399536\n",
            "MSE:  0.23224043715846995\n",
            "F1 Score: 0.4480519480519481\n"
          ],
          "name": "stdout"
        }
      ]
    },
    {
      "cell_type": "code",
      "metadata": {
        "colab": {
          "base_uri": "https://localhost:8080/"
        },
        "id": "8c572iwdlZmy",
        "outputId": "a5b85f1a-fe69-4f11-f66e-613cb732bc61"
      },
      "source": [
        "# Prediction and Scores (Train/Test 2)\n",
        "y_pred_c2 = automlclassifier_c2.predict(X_test_cat2.values)\n",
        "acc_c2 = accuracy_score(y_test, y_pred_c2)\n",
        "auc_c2 = roc_auc_score(y_test, y_pred_c2)\n",
        "mse_c2 = mean_squared_error(y_test, y_pred_c2) \n",
        "f1score_c2 = f1_score(y_test, y_pred_c2)\n",
        "\n",
        "print(\"Accuracy score:\", acc_c2)\n",
        "print(\"AUC score: \", auc_c2)\n",
        "print(\"MSE: \", mse_c2)\n",
        "print(\"F1 Score:\", f1score_c2)"
      ],
      "execution_count": 40,
      "outputs": [
        {
          "output_type": "stream",
          "text": [
            "Accuracy score: 0.7950819672131147\n",
            "AUC score:  0.6886939805358644\n",
            "MSE:  0.20491803278688525\n",
            "F1 Score: 0.4642857142857143\n"
          ],
          "name": "stdout"
        }
      ]
    },
    {
      "cell_type": "code",
      "metadata": {
        "colab": {
          "base_uri": "https://localhost:8080/"
        },
        "id": "LuiWlCzYlhPn",
        "outputId": "563f5670-5e8a-4da7-9236-d8c6096da462"
      },
      "source": [
        "# Prediction and Scores (Train/Test 3)\n",
        "y_pred_c3 = automlclassifier_c3.predict(X_test_cat3.values)\n",
        "acc_c3 = accuracy_score(y_test, y_pred_c3)\n",
        "auc_c3 = roc_auc_score(y_test, y_pred_c3)\n",
        "mse_c3 = mean_squared_error(y_test, y_pred_c3) \n",
        "f1score_c3 = f1_score(y_test, y_pred_c3)\n",
        "\n",
        "print(\"Accuracy score:\", acc_c3)\n",
        "print(\"AUC score: \", auc_c3)\n",
        "print(\"MSE: \", mse_c3)\n",
        "print(\"F1 Score:\", f1score_c3)"
      ],
      "execution_count": 41,
      "outputs": [
        {
          "output_type": "stream",
          "text": [
            "Accuracy score: 0.773224043715847\n",
            "AUC score:  0.6788017141255156\n",
            "MSE:  0.226775956284153\n",
            "F1 Score: 0.44295302013422816\n"
          ],
          "name": "stdout"
        }
      ]
    },
    {
      "cell_type": "code",
      "metadata": {
        "colab": {
          "base_uri": "https://localhost:8080/"
        },
        "id": "F53xyN-UmIDE",
        "outputId": "1c6da834-8bf9-41a8-a32c-cdf4c66b77b8"
      },
      "source": [
        "# Prediction and Scores (Train/Test 4)\n",
        "y_pred_c4 = automlclassifier_c4.predict(X_test_cat4.values)\n",
        "acc_c4 = accuracy_score(y_test, y_pred_c4)\n",
        "auc_c4 = roc_auc_score(y_test, y_pred_c4)\n",
        "mse_c4 = mean_squared_error(y_test, y_pred_c4) \n",
        "f1score_c4 = f1_score(y_test, y_pred_c4)\n",
        "\n",
        "print(\"Accuracy score:\", acc_c4)\n",
        "print(\"AUC score: \", auc_c4)\n",
        "print(\"MSE: \", mse_c4)\n",
        "print(\"F1 Score:\", f1score_c4)"
      ],
      "execution_count": 42,
      "outputs": [
        {
          "output_type": "stream",
          "text": [
            "Accuracy score: 0.7759562841530054\n",
            "AUC score:  0.7128839761304017\n",
            "MSE:  0.22404371584699453\n",
            "F1 Score: 0.4810126582278481\n"
          ],
          "name": "stdout"
        }
      ]
    },
    {
      "cell_type": "code",
      "metadata": {
        "colab": {
          "base_uri": "https://localhost:8080/"
        },
        "id": "UgQGL-8kmOhw",
        "outputId": "90c1a6b3-dfc8-457e-d7c0-67ef34e154f2"
      },
      "source": [
        "# Prediction and Scores (Train/Test 5)\n",
        "y_pred_c5 = automlclassifier_c1.predict(X_test_cat5.values)\n",
        "acc_c5 = accuracy_score(y_test, y_pred_c5)\n",
        "auc_c5 = roc_auc_score(y_test, y_pred_c5)\n",
        "mse_c5 = mean_squared_error(y_test, y_pred_c5) \n",
        "f1score_c5 = f1_score(y_test, y_pred_c5)\n",
        "\n",
        "print(\"Accuracy score:\", acc_c5)\n",
        "print(\"AUC score: \", auc_c5)\n",
        "print(\"MSE: \", mse_c5)\n",
        "print(\"F1 Score:\", f1score_c5)"
      ],
      "execution_count": 43,
      "outputs": [
        {
          "output_type": "stream",
          "text": [
            "Accuracy score: 0.7978142076502732\n",
            "AUC score:  0.6611398133685771\n",
            "MSE:  0.20218579234972678\n",
            "F1 Score: 0.4307692307692308\n"
          ],
          "name": "stdout"
        }
      ]
    },
    {
      "cell_type": "code",
      "metadata": {
        "id": "2Ds-__hzmiQA"
      },
      "source": [
        "# Print Final Ensembles\n",
        "print(automlclassifier_c1.show_models())\n",
        "print(automlclassifier_c2.show_models())\n",
        "print(automlclassifier_c3.show_models())\n",
        "print(automlclassifier_c4.show_models())\n",
        "print(automlclassifier_c5.show_models())"
      ],
      "execution_count": null,
      "outputs": []
    },
    {
      "cell_type": "markdown",
      "metadata": {
        "id": "EkXH97Cegtry"
      },
      "source": [
        "#Auto-sklearn Framingham (Numeric)"
      ]
    },
    {
      "cell_type": "code",
      "metadata": {
        "id": "B_lHFHFsgOUS"
      },
      "source": [
        "# Create Missing Datasets Train (NUMERIC)\n",
        "X_train_miss_num = X_train[categorical_names]\n",
        "X_train_num = X_train[numeric_names]\n",
        "\n",
        "X_train_num1 = mask_data(X_train_num, miss_rate=0.1, random_seed=123)\n",
        "X_train_num2 = mask_data(X_train_num, miss_rate=0.2, random_seed=123)\n",
        "X_train_num3 = mask_data(X_train_num, miss_rate=0.3, random_seed=123)\n",
        "X_train_num4 = mask_data(X_train_num, miss_rate=0.4, random_seed=123)\n",
        "X_train_num5 = mask_data(X_train_num, miss_rate=0.5, random_seed=123)\n",
        "\n",
        "X_train_num1 = pd.concat([X_train_miss_num, X_train_num1], axis=1, ignore_index=False)\n",
        "X_train_num2 = pd.concat([X_train_miss_num, X_train_num2], axis=1, ignore_index=False)\n",
        "X_train_num3 = pd.concat([X_train_miss_num, X_train_num3], axis=1, ignore_index=False)\n",
        "X_train_num4 = pd.concat([X_train_miss_num, X_train_num4], axis=1, ignore_index=False)\n",
        "X_train_num5 = pd.concat([X_train_miss_num, X_train_num5], axis=1, ignore_index=False)"
      ],
      "execution_count": 24,
      "outputs": []
    },
    {
      "cell_type": "code",
      "metadata": {
        "id": "zz9XHK8ujIqL"
      },
      "source": [
        "# Create Missing Datasets Test (NUMERIC)\n",
        "X_test_miss_num = X_test[categorical_names]\n",
        "X_test_num = X_test[numeric_names]\n",
        "\n",
        "X_test_num1 = mask_data(X_test_num, miss_rate=0.1, random_seed=123)\n",
        "X_test_num2 = mask_data(X_test_num, miss_rate=0.2, random_seed=123)\n",
        "X_test_num3 = mask_data(X_test_num, miss_rate=0.3, random_seed=123)\n",
        "X_test_num4 = mask_data(X_test_num, miss_rate=0.4, random_seed=123)\n",
        "X_test_num5 = mask_data(X_test_num, miss_rate=0.5, random_seed=123)\n",
        "\n",
        "X_test_num1 = pd.concat([X_test_miss_num, X_test_num1], axis=1, ignore_index=False)\n",
        "X_test_num2 = pd.concat([X_test_miss_num, X_test_num2], axis=1, ignore_index=False)\n",
        "X_test_num3 = pd.concat([X_test_miss_num, X_test_num3], axis=1, ignore_index=False)\n",
        "X_test_num4 = pd.concat([X_test_miss_num, X_test_num4], axis=1, ignore_index=False)\n",
        "X_test_num5 = pd.concat([X_test_miss_num, X_test_num5], axis=1, ignore_index=False)"
      ],
      "execution_count": 25,
      "outputs": []
    },
    {
      "cell_type": "code",
      "metadata": {
        "colab": {
          "base_uri": "https://localhost:8080/"
        },
        "id": "SYWKgB2vnlD4",
        "outputId": "621daf71-42b1-477b-8e3c-04a37c91e987"
      },
      "source": [
        "# Classifier (Missing 10%)\n",
        "automlclassifier_n1=classifier.AutoSklearnClassifier(metric = autosklearn.metrics.f1,\n",
        "                                                     time_left_for_this_task=300,\n",
        "                                                     per_run_time_limit=60)\n",
        "automlclassifier_n1.fit(X_train_num1.values,y_train)"
      ],
      "execution_count": 26,
      "outputs": [
        {
          "output_type": "execute_result",
          "data": {
            "text/plain": [
              "AutoSklearnClassifier(metric=f1, per_run_time_limit=60,\n",
              "                      time_left_for_this_task=300)"
            ]
          },
          "metadata": {
            "tags": []
          },
          "execution_count": 26
        }
      ]
    },
    {
      "cell_type": "code",
      "metadata": {
        "colab": {
          "base_uri": "https://localhost:8080/"
        },
        "id": "fKhqPCynnpZz",
        "outputId": "dfe55e14-2d27-4b99-a11b-25afbc657e00"
      },
      "source": [
        "# Classifier (Missing 20%)\n",
        "automlclassifier_n2=classifier.AutoSklearnClassifier(metric = autosklearn.metrics.f1,\n",
        "                                                     time_left_for_this_task=300,\n",
        "                                                     per_run_time_limit=60)\n",
        "automlclassifier_n2.fit(X_train_num2.values,y_train)"
      ],
      "execution_count": 27,
      "outputs": [
        {
          "output_type": "execute_result",
          "data": {
            "text/plain": [
              "AutoSklearnClassifier(metric=f1, per_run_time_limit=60,\n",
              "                      time_left_for_this_task=300)"
            ]
          },
          "metadata": {
            "tags": []
          },
          "execution_count": 27
        }
      ]
    },
    {
      "cell_type": "code",
      "metadata": {
        "colab": {
          "base_uri": "https://localhost:8080/"
        },
        "id": "c7mUSNRHn--f",
        "outputId": "6452d30d-efb2-403e-e0d1-8c92752b14ce"
      },
      "source": [
        "# Classifier (Missing 30%)\n",
        "automlclassifier_n3=classifier.AutoSklearnClassifier(metric = autosklearn.metrics.f1,\n",
        "                                                     time_left_for_this_task=300,\n",
        "                                                     per_run_time_limit=60)\n",
        "automlclassifier_n3.fit(X_train_num3.values,y_train)"
      ],
      "execution_count": 28,
      "outputs": [
        {
          "output_type": "execute_result",
          "data": {
            "text/plain": [
              "AutoSklearnClassifier(metric=f1, per_run_time_limit=60,\n",
              "                      time_left_for_this_task=300)"
            ]
          },
          "metadata": {
            "tags": []
          },
          "execution_count": 28
        }
      ]
    },
    {
      "cell_type": "code",
      "metadata": {
        "colab": {
          "base_uri": "https://localhost:8080/"
        },
        "id": "bTlm5YwApcIJ",
        "outputId": "cbd04ea8-79d4-49a2-adfd-10b86c6bdd4d"
      },
      "source": [
        "# Classifier (Missing 40%)\n",
        "automlclassifier_n4=classifier.AutoSklearnClassifier(metric = autosklearn.metrics.f1,\n",
        "                                                     time_left_for_this_task=300,\n",
        "                                                     per_run_time_limit=60)\n",
        "automlclassifier_n4.fit(X_train_num4.values,y_train)"
      ],
      "execution_count": 29,
      "outputs": [
        {
          "output_type": "execute_result",
          "data": {
            "text/plain": [
              "AutoSklearnClassifier(metric=f1, per_run_time_limit=60,\n",
              "                      time_left_for_this_task=300)"
            ]
          },
          "metadata": {
            "tags": []
          },
          "execution_count": 29
        }
      ]
    },
    {
      "cell_type": "code",
      "metadata": {
        "colab": {
          "base_uri": "https://localhost:8080/"
        },
        "id": "9I13HnXMpe0y",
        "outputId": "fc7a5441-7fc1-4e36-e8c7-99238abb7069"
      },
      "source": [
        "# Classifier (Missing 50%)\n",
        "automlclassifier_n5=classifier.AutoSklearnClassifier(metric = autosklearn.metrics.f1,\n",
        "                                                     time_left_for_this_task=300,\n",
        "                                                     per_run_time_limit=60)\n",
        "automlclassifier_n5.fit(X_train_num5.values,y_train)"
      ],
      "execution_count": 30,
      "outputs": [
        {
          "output_type": "execute_result",
          "data": {
            "text/plain": [
              "AutoSklearnClassifier(metric=f1, per_run_time_limit=60,\n",
              "                      time_left_for_this_task=300)"
            ]
          },
          "metadata": {
            "tags": []
          },
          "execution_count": 30
        }
      ]
    },
    {
      "cell_type": "code",
      "metadata": {
        "colab": {
          "base_uri": "https://localhost:8080/"
        },
        "id": "PlIJszGqpkP6",
        "outputId": "b07c9b8b-afe9-45d7-fabe-4ec1a8293e8c"
      },
      "source": [
        "# Prediction and Scores (Train/Test 1)\n",
        "y_pred_n1 = automlclassifier_n1.predict(X_test_num1.values)\n",
        "acc_n1 = accuracy_score(y_test, y_pred_n1)\n",
        "auc_n1 = roc_auc_score(y_test, y_pred_n1)\n",
        "mse_n1 = mean_squared_error(y_test, y_pred_n1) \n",
        "f1score_n1 = f1_score(y_test, y_pred_n1)\n",
        "\n",
        "print(\"Accuracy score:\", acc_n1)\n",
        "print(\"AUC score: \", auc_n1)\n",
        "print(\"MSE: \", mse_n1)\n",
        "print(\"F1 Score:\", f1score_n1)"
      ],
      "execution_count": 49,
      "outputs": [
        {
          "output_type": "stream",
          "text": [
            "Accuracy score: 0.7144808743169399\n",
            "AUC score:  0.6824262084985382\n",
            "MSE:  0.2855191256830601\n",
            "F1 Score: 0.4273972602739726\n"
          ],
          "name": "stdout"
        }
      ]
    },
    {
      "cell_type": "code",
      "metadata": {
        "colab": {
          "base_uri": "https://localhost:8080/"
        },
        "id": "Q_IsPyRwsyUU",
        "outputId": "ec62ce96-48cf-43ad-c40c-cad91b6c261e"
      },
      "source": [
        "# Prediction and Scores (Train/Test 2)\n",
        "y_pred_n2 = automlclassifier_n2.predict(X_test_num2.values)\n",
        "acc_n2 = accuracy_score(y_test, y_pred_n2)\n",
        "auc_n2 = roc_auc_score(y_test, y_pred_n2)\n",
        "mse_n2 = mean_squared_error(y_test, y_pred_n2) \n",
        "f1score_n2 = f1_score(y_test, y_pred_n2)\n",
        "\n",
        "print(\"Accuracy score:\", acc_n2)\n",
        "print(\"AUC score: \", auc_n2)\n",
        "print(\"MSE: \", mse_n2)\n",
        "print(\"F1 Score:\", f1score_n2)"
      ],
      "execution_count": 50,
      "outputs": [
        {
          "output_type": "stream",
          "text": [
            "Accuracy score: 0.7090163934426229\n",
            "AUC score:  0.7148263847170492\n",
            "MSE:  0.29098360655737704\n",
            "F1 Score: 0.45524296675191817\n"
          ],
          "name": "stdout"
        }
      ]
    },
    {
      "cell_type": "code",
      "metadata": {
        "colab": {
          "base_uri": "https://localhost:8080/"
        },
        "id": "uRPLndf8s478",
        "outputId": "1bcb1dde-0319-4029-f043-dbae9ec74500"
      },
      "source": [
        "# Prediction and Scores (Train/Test 3)\n",
        "y_pred_n3 = automlclassifier_n3.predict(X_test_num3.values)\n",
        "acc_n3 = accuracy_score(y_test, y_pred_n3)\n",
        "auc_n3 = roc_auc_score(y_test, y_pred_n3)\n",
        "mse_n3 = mean_squared_error(y_test, y_pred_n3) \n",
        "f1score_n3 = f1_score(y_test, y_pred_n3)\n",
        "\n",
        "print(\"Accuracy score:\", acc_n3)\n",
        "print(\"AUC score: \", auc_n3)\n",
        "print(\"MSE: \", mse_n3)\n",
        "print(\"F1 Score:\", f1score_n3)"
      ],
      "execution_count": 51,
      "outputs": [
        {
          "output_type": "stream",
          "text": [
            "Accuracy score: 0.7240437158469946\n",
            "AUC score:  0.6654651768192559\n",
            "MSE:  0.27595628415300544\n",
            "F1 Score: 0.41279069767441856\n"
          ],
          "name": "stdout"
        }
      ]
    },
    {
      "cell_type": "code",
      "metadata": {
        "colab": {
          "base_uri": "https://localhost:8080/"
        },
        "id": "bMIJAyc_tACk",
        "outputId": "62388088-936c-45e2-d440-a32a0a751bc3"
      },
      "source": [
        "# Prediction and Scores (Train/Test 4)\n",
        "y_pred_n4 = automlclassifier_n4.predict(X_test_num4.values)\n",
        "acc_n4 = accuracy_score(y_test, y_pred_n4)\n",
        "auc_n4 = roc_auc_score(y_test, y_pred_n4)\n",
        "mse_n4 = mean_squared_error(y_test, y_pred_n4) \n",
        "f1score_n4 = f1_score(y_test, y_pred_n4)\n",
        "\n",
        "\n",
        "print(\"Accuracy score:\", acc_n4)\n",
        "print(\"AUC score: \", auc_n4)\n",
        "print(\"MSE: \", mse_n4)\n",
        "print(\"F1 Score:\", f1score_n4)"
      ],
      "execution_count": 52,
      "outputs": [
        {
          "output_type": "stream",
          "text": [
            "Accuracy score: 0.6557377049180327\n",
            "AUC score:  0.6568544995794786\n",
            "MSE:  0.3442622950819672\n",
            "F1 Score: 0.391304347826087\n"
          ],
          "name": "stdout"
        }
      ]
    },
    {
      "cell_type": "code",
      "metadata": {
        "colab": {
          "base_uri": "https://localhost:8080/"
        },
        "id": "yYMCcBGrtFrS",
        "outputId": "f1dc2bc5-3923-4b78-e98a-cd6510243914"
      },
      "source": [
        "# Prediction and Scores (Train/Test 5)\n",
        "y_pred_n5 = automlclassifier_n1.predict(X_test_num5.values)\n",
        "acc_n5 = accuracy_score(y_test, y_pred_n5)\n",
        "auc_n5 = roc_auc_score(y_test, y_pred_n5)\n",
        "mse_n5 = mean_squared_error(y_test, y_pred_n5) \n",
        "f1score_n5 = f1_score(y_test, y_pred_n5)\n",
        "\n",
        "print(\"Accuracy score:\", acc_n5)\n",
        "print(\"AUC score: \", auc_n5)\n",
        "print(\"MSE: \", mse_n5)\n",
        "print(\"F1 Score:\", f1score_n1)"
      ],
      "execution_count": 53,
      "outputs": [
        {
          "output_type": "stream",
          "text": [
            "Accuracy score: 0.7349726775956285\n",
            "AUC score:  0.5909327566182065\n",
            "MSE:  0.2650273224043716\n",
            "F1 Score: 0.4273972602739726\n"
          ],
          "name": "stdout"
        }
      ]
    },
    {
      "cell_type": "code",
      "metadata": {
        "id": "rlIIrvSotVZ4"
      },
      "source": [
        "# Print Final Ensembles\n",
        "print(automlclassifier_n1.show_models())\n",
        "print(automlclassifier_n2.show_models())\n",
        "print(automlclassifier_n3.show_models())\n",
        "print(automlclassifier_n4.show_models())\n",
        "print(automlclassifier_n5.show_models())"
      ],
      "execution_count": null,
      "outputs": []
    }
  ]
}